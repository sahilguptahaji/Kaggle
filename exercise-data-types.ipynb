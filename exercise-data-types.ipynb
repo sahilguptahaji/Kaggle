{
 "cells": [
  {
   "cell_type": "markdown",
   "id": "1f5d8f5d",
   "metadata": {
    "papermill": {
     "duration": 0.009147,
     "end_time": "2024-07-10T22:42:12.774946",
     "exception": false,
     "start_time": "2024-07-10T22:42:12.765799",
     "status": "completed"
    },
    "tags": []
   },
   "source": [
    "**This notebook is an exercise in the [Intro to Programming](https://www.kaggle.com/learn/intro-to-programming) course.  You can reference the tutorial at [this link](https://www.kaggle.com/alexisbcook/data-types).**\n",
    "\n",
    "---\n"
   ]
  },
  {
   "cell_type": "markdown",
   "id": "5bbef2c7",
   "metadata": {
    "papermill": {
     "duration": 0.008358,
     "end_time": "2024-07-10T22:42:12.792203",
     "exception": false,
     "start_time": "2024-07-10T22:42:12.783845",
     "status": "completed"
    },
    "tags": []
   },
   "source": [
    "In the tutorial, you learned about four different data types: floats, integers, strings, and booleans.  In this exercise, you'll experiment with them.\n",
    "\n",
    "# Set up the notebook\n",
    "\n",
    "Run the next code cell without changes to set up the notebook."
   ]
  },
  {
   "cell_type": "code",
   "execution_count": 1,
   "id": "d6065351",
   "metadata": {
    "execution": {
     "iopub.execute_input": "2024-07-10T22:42:12.811770Z",
     "iopub.status.busy": "2024-07-10T22:42:12.810697Z",
     "iopub.status.idle": "2024-07-10T22:42:13.876842Z",
     "shell.execute_reply": "2024-07-10T22:42:13.875454Z"
    },
    "papermill": {
     "duration": 1.078954,
     "end_time": "2024-07-10T22:42:13.879753",
     "exception": false,
     "start_time": "2024-07-10T22:42:12.800799",
     "status": "completed"
    },
    "tags": []
   },
   "outputs": [
    {
     "name": "stdout",
     "output_type": "stream",
     "text": [
      "Setup complete.\n"
     ]
    }
   ],
   "source": [
    "# Set up the exercise\n",
    "from learntools.core import binder\n",
    "binder.bind(globals())\n",
    "from learntools.intro_to_programming.ex3 import *\n",
    "print('Setup complete.')"
   ]
  },
  {
   "cell_type": "markdown",
   "id": "c111676e",
   "metadata": {
    "papermill": {
     "duration": 0.008376,
     "end_time": "2024-07-10T22:42:13.897119",
     "exception": false,
     "start_time": "2024-07-10T22:42:13.888743",
     "status": "completed"
    },
    "tags": []
   },
   "source": [
    "# Question 1\n",
    "\n",
    "You have seen how to convert a float to an integer with the `int` function.  Try this out yourself by running the code cell below."
   ]
  },
  {
   "cell_type": "code",
   "execution_count": 2,
   "id": "897d5b4b",
   "metadata": {
    "execution": {
     "iopub.execute_input": "2024-07-10T22:42:13.916603Z",
     "iopub.status.busy": "2024-07-10T22:42:13.916050Z",
     "iopub.status.idle": "2024-07-10T22:42:13.923000Z",
     "shell.execute_reply": "2024-07-10T22:42:13.921794Z"
    },
    "papermill": {
     "duration": 0.020758,
     "end_time": "2024-07-10T22:42:13.926573",
     "exception": false,
     "start_time": "2024-07-10T22:42:13.905815",
     "status": "completed"
    },
    "tags": []
   },
   "outputs": [
    {
     "name": "stdout",
     "output_type": "stream",
     "text": [
      "1.0\n",
      "<class 'float'>\n",
      "1\n",
      "<class 'int'>\n"
     ]
    }
   ],
   "source": [
    "# Define a float\n",
    "y = 1.\n",
    "print(y)\n",
    "print(type(y))\n",
    "\n",
    "# Convert float to integer with the int function\n",
    "z = int(y)\n",
    "print(z)\n",
    "print(type(z))"
   ]
  },
  {
   "cell_type": "markdown",
   "id": "3f4721a7",
   "metadata": {
    "papermill": {
     "duration": 0.008559,
     "end_time": "2024-07-10T22:42:13.944516",
     "exception": false,
     "start_time": "2024-07-10T22:42:13.935957",
     "status": "completed"
    },
    "tags": []
   },
   "source": [
    "In this case, the float you are using has no numbers after the decimal.  \n",
    "- But what happens when you try to convert a float with a fractional part to an integer?  \n",
    "- How does the outcome of the `int` function change for positive and negative numbers?\n",
    "\n",
    "Use the next code cell to investigate and answer these questions.  Feel free to add or remove any lines of code -- it is your workspace!"
   ]
  },
  {
   "cell_type": "code",
   "execution_count": 3,
   "id": "e457ed7b",
   "metadata": {
    "execution": {
     "iopub.execute_input": "2024-07-10T22:42:13.964304Z",
     "iopub.status.busy": "2024-07-10T22:42:13.963902Z",
     "iopub.status.idle": "2024-07-10T22:42:13.970851Z",
     "shell.execute_reply": "2024-07-10T22:42:13.969622Z"
    },
    "papermill": {
     "duration": 0.02025,
     "end_time": "2024-07-10T22:42:13.973681",
     "exception": false,
     "start_time": "2024-07-10T22:42:13.953431",
     "status": "completed"
    },
    "tags": []
   },
   "outputs": [
    {
     "name": "stdout",
     "output_type": "stream",
     "text": [
      "1\n",
      "1\n",
      "-3\n",
      "-2\n"
     ]
    }
   ],
   "source": [
    "# Uncomment and run this code to get started!\n",
    "print(int(1.2321))\n",
    "print(int(1.747))\n",
    "print(int(-3.94535))\n",
    "print(int(-2.19774))"
   ]
  },
  {
   "cell_type": "markdown",
   "id": "05c2ae77",
   "metadata": {
    "papermill": {
     "duration": 0.008708,
     "end_time": "2024-07-10T22:42:13.991299",
     "exception": false,
     "start_time": "2024-07-10T22:42:13.982591",
     "status": "completed"
    },
    "tags": []
   },
   "source": [
    "Once you have an answer, run the code cell below to see the solution.  Viewing the solution will give you credit for answering the problem."
   ]
  },
  {
   "cell_type": "code",
   "execution_count": 4,
   "id": "27b5bd93",
   "metadata": {
    "execution": {
     "iopub.execute_input": "2024-07-10T22:42:14.011062Z",
     "iopub.status.busy": "2024-07-10T22:42:14.010654Z",
     "iopub.status.idle": "2024-07-10T22:42:14.021174Z",
     "shell.execute_reply": "2024-07-10T22:42:14.019842Z"
    },
    "papermill": {
     "duration": 0.023605,
     "end_time": "2024-07-10T22:42:14.023838",
     "exception": false,
     "start_time": "2024-07-10T22:42:14.000233",
     "status": "completed"
    },
    "tags": []
   },
   "outputs": [
    {
     "data": {
      "application/javascript": [
       "parent.postMessage({\"jupyterEvent\": \"custom.exercise_interaction\", \"data\": {\"outcomeType\": 1, \"valueTowardsCompletion\": 0.2, \"interactionType\": 1, \"questionType\": 4, \"questionId\": \"1_FloatToInt\", \"learnToolsVersion\": \"0.3.4\", \"failureMessage\": \"\", \"exceptionClass\": \"\", \"trace\": \"\"}}, \"*\")"
      ],
      "text/plain": [
       "<IPython.core.display.Javascript object>"
      ]
     },
     "metadata": {},
     "output_type": "display_data"
    },
    {
     "data": {
      "text/markdown": [
       "<span style=\"color:#33cc33\">Correct:</span> \n",
       "\n",
       "Negative floats are always rounded UP to the closest integer (for instance, both -1.1 and -1.9 are rounded up to -1). Positive floats are always rounded DOWN to the closest integer (for instance, 2.1 and 2.9 are rounded down to 2)."
      ],
      "text/plain": [
       "Correct: \n",
       "\n",
       "Negative floats are always rounded UP to the closest integer (for instance, both -1.1 and -1.9 are rounded up to -1). Positive floats are always rounded DOWN to the closest integer (for instance, 2.1 and 2.9 are rounded down to 2)."
      ]
     },
     "metadata": {},
     "output_type": "display_data"
    }
   ],
   "source": [
    "# Check your answer (Run this code cell to receive credit!)\n",
    "q1.check()"
   ]
  },
  {
   "cell_type": "markdown",
   "id": "cc97e0e3",
   "metadata": {
    "papermill": {
     "duration": 0.008873,
     "end_time": "2024-07-10T22:42:14.042127",
     "exception": false,
     "start_time": "2024-07-10T22:42:14.033254",
     "status": "completed"
    },
    "tags": []
   },
   "source": [
    "# Question 2\n",
    "\n",
    "In the tutorial, you learned about booleans (which can take a value of `True` or `False`), in addition to integers, floats, and strings.  For this question, your goal is to determine what happens when you multiply a boolean by any of these data types.  Specifically, \n",
    "- What happens when you multiply an integer or float by `True`?  What happens when you multiply them by `False`?  How does the answer change if the numbers are positive or negative?\n",
    "- What happens when you multiply a string by `True`?  By `False`?\n",
    "\n",
    "Use the next code cell for your investigation. "
   ]
  },
  {
   "cell_type": "code",
   "execution_count": 5,
   "id": "c879842e",
   "metadata": {
    "execution": {
     "iopub.execute_input": "2024-07-10T22:42:14.063608Z",
     "iopub.status.busy": "2024-07-10T22:42:14.062264Z",
     "iopub.status.idle": "2024-07-10T22:42:14.069467Z",
     "shell.execute_reply": "2024-07-10T22:42:14.068171Z"
    },
    "papermill": {
     "duration": 0.02059,
     "end_time": "2024-07-10T22:42:14.072010",
     "exception": false,
     "start_time": "2024-07-10T22:42:14.051420",
     "status": "completed"
    },
    "tags": []
   },
   "outputs": [
    {
     "name": "stdout",
     "output_type": "stream",
     "text": [
      "3\n",
      "-3.1\n",
      "<class 'str'>\n",
      "0\n"
     ]
    }
   ],
   "source": [
    "# Uncomment and run this code to get started!\n",
    "print(3 * True)\n",
    "print(-3.1 * True)\n",
    "print(type(\"abc\" * False))\n",
    "print(len(\"abc\" * False))"
   ]
  },
  {
   "cell_type": "markdown",
   "id": "5ac50794",
   "metadata": {
    "papermill": {
     "duration": 0.009097,
     "end_time": "2024-07-10T22:42:14.090634",
     "exception": false,
     "start_time": "2024-07-10T22:42:14.081537",
     "status": "completed"
    },
    "tags": []
   },
   "source": [
    "Once you have an answer, run the code cell below to see the solution.  Viewing the solution will give you credit for answering the problem."
   ]
  },
  {
   "cell_type": "code",
   "execution_count": 6,
   "id": "f671a707",
   "metadata": {
    "execution": {
     "iopub.execute_input": "2024-07-10T22:42:14.111113Z",
     "iopub.status.busy": "2024-07-10T22:42:14.110696Z",
     "iopub.status.idle": "2024-07-10T22:42:14.119563Z",
     "shell.execute_reply": "2024-07-10T22:42:14.118463Z"
    },
    "papermill": {
     "duration": 0.02228,
     "end_time": "2024-07-10T22:42:14.122214",
     "exception": false,
     "start_time": "2024-07-10T22:42:14.099934",
     "status": "completed"
    },
    "tags": []
   },
   "outputs": [
    {
     "data": {
      "application/javascript": [
       "parent.postMessage({\"jupyterEvent\": \"custom.exercise_interaction\", \"data\": {\"outcomeType\": 1, \"valueTowardsCompletion\": 0.2, \"interactionType\": 1, \"questionType\": 4, \"questionId\": \"2_MultiplyBooleans\", \"learnToolsVersion\": \"0.3.4\", \"failureMessage\": \"\", \"exceptionClass\": \"\", \"trace\": \"\"}}, \"*\")"
      ],
      "text/plain": [
       "<IPython.core.display.Javascript object>"
      ]
     },
     "metadata": {},
     "output_type": "display_data"
    },
    {
     "data": {
      "text/markdown": [
       "<span style=\"color:#33cc33\">Correct:</span> \n",
       "\n",
       "When you multiple an integer or float by a boolean with value `True`, it just returns that same integer or float (and is equivalent to multiplying by 1).  If you multiply an integer or float by a boolean with value `False`, it always returns 0.  This is true for both positive and negative numbers.  If you multiply a string by a boolean with value `True`, it just returns that same string.  And if you multiply a string by a boolean with value `False`, it returns an empty string (or a string with length zero)."
      ],
      "text/plain": [
       "Correct: \n",
       "\n",
       "When you multiple an integer or float by a boolean with value `True`, it just returns that same integer or float (and is equivalent to multiplying by 1).  If you multiply an integer or float by a boolean with value `False`, it always returns 0.  This is true for both positive and negative numbers.  If you multiply a string by a boolean with value `True`, it just returns that same string.  And if you multiply a string by a boolean with value `False`, it returns an empty string (or a string with length zero)."
      ]
     },
     "metadata": {},
     "output_type": "display_data"
    }
   ],
   "source": [
    "# Check your answer (Run this code cell to receive credit!)\n",
    "q2.check()"
   ]
  },
  {
   "cell_type": "markdown",
   "id": "7411c97d",
   "metadata": {
    "papermill": {
     "duration": 0.00974,
     "end_time": "2024-07-10T22:42:14.141956",
     "exception": false,
     "start_time": "2024-07-10T22:42:14.132216",
     "status": "completed"
    },
    "tags": []
   },
   "source": [
    "# Question 3\n",
    "\n",
    "In this question, you will build off your work from the previous exercise to write a function that estimates the value of a house.\n",
    "\n",
    "Use the next code cell to create a function `get_expected_cost` that takes as input three variables:\n",
    "- `beds` - number of bedrooms (data type float)\n",
    "- `baths` - number of bathrooms (data type float)\n",
    "- `has_basement` - whether or not the house has a basement (data type boolean)\n",
    "\n",
    "It should return the expected cost of a house with those characteristics. Assume that:\n",
    "- the expected cost for a house with 0 bedrooms and 0 bathrooms, and no basement is 80000, \n",
    "- each bedroom adds 30000 to the expected cost,\n",
    "- each bathroom adds 10000 to the expected cost, and\n",
    "- a basement adds 40000 to the expected cost.\n",
    "\n",
    "For instance,\n",
    "- a house with 1 bedroom, 1 bathroom, and no basement has an expected cost of 80000 + 30000 + 10000 = 120000.  This value will be calculated with `get_expected_cost(1, 1, False)`.\n",
    "- a house with 2 bedrooms, 1 bathroom, and a basement has an expected cost of 80000 + 2*30000 + 10000 + 40000 = 190000.  This value will be calculated with `get_expected_cost(2, 1, True)`.\n",
    "\n",
    "Remember you can always get a hint by uncommenting `q3.hint()` in the code cell following the next!"
   ]
  },
  {
   "cell_type": "code",
   "execution_count": 7,
   "id": "bfeb5d57",
   "metadata": {
    "execution": {
     "iopub.execute_input": "2024-07-10T22:42:14.164788Z",
     "iopub.status.busy": "2024-07-10T22:42:14.164363Z",
     "iopub.status.idle": "2024-07-10T22:42:14.174581Z",
     "shell.execute_reply": "2024-07-10T22:42:14.173461Z"
    },
    "papermill": {
     "duration": 0.024271,
     "end_time": "2024-07-10T22:42:14.177427",
     "exception": false,
     "start_time": "2024-07-10T22:42:14.153156",
     "status": "completed"
    },
    "tags": []
   },
   "outputs": [
    {
     "data": {
      "application/javascript": [
       "parent.postMessage({\"jupyterEvent\": \"custom.exercise_interaction\", \"data\": {\"outcomeType\": 1, \"valueTowardsCompletion\": 0.2, \"interactionType\": 1, \"questionType\": 2, \"questionId\": \"3_EstimateHouseValueBool\", \"learnToolsVersion\": \"0.3.4\", \"failureMessage\": \"\", \"exceptionClass\": \"\", \"trace\": \"\"}}, \"*\")"
      ],
      "text/plain": [
       "<IPython.core.display.Javascript object>"
      ]
     },
     "metadata": {},
     "output_type": "display_data"
    },
    {
     "data": {
      "text/markdown": [
       "<span style=\"color:#33cc33\">Correct</span>"
      ],
      "text/plain": [
       "Correct"
      ]
     },
     "metadata": {},
     "output_type": "display_data"
    }
   ],
   "source": [
    "# TODO: Complete the function\n",
    "def get_expected_cost(beds, baths, has_basement):\n",
    "    value = 80000 + (30000 * beds) + (10000 * baths) + (40000 * has_basement)\n",
    "    return value\n",
    "\n",
    "# Check your answer \n",
    "q3.check()"
   ]
  },
  {
   "cell_type": "code",
   "execution_count": 8,
   "id": "2c0f1563",
   "metadata": {
    "execution": {
     "iopub.execute_input": "2024-07-10T22:42:14.200124Z",
     "iopub.status.busy": "2024-07-10T22:42:14.199605Z",
     "iopub.status.idle": "2024-07-10T22:42:14.213543Z",
     "shell.execute_reply": "2024-07-10T22:42:14.212283Z"
    },
    "papermill": {
     "duration": 0.028092,
     "end_time": "2024-07-10T22:42:14.216178",
     "exception": false,
     "start_time": "2024-07-10T22:42:14.188086",
     "status": "completed"
    },
    "tags": []
   },
   "outputs": [
    {
     "data": {
      "application/javascript": [
       "parent.postMessage({\"jupyterEvent\": \"custom.exercise_interaction\", \"data\": {\"interactionType\": 2, \"questionType\": 2, \"questionId\": \"3_EstimateHouseValueBool\", \"learnToolsVersion\": \"0.3.4\", \"valueTowardsCompletion\": 0.0, \"failureMessage\": \"\", \"exceptionClass\": \"\", \"trace\": \"\", \"outcomeType\": 4}}, \"*\")"
      ],
      "text/plain": [
       "<IPython.core.display.Javascript object>"
      ]
     },
     "metadata": {},
     "output_type": "display_data"
    },
    {
     "data": {
      "text/markdown": [
       "<span style=\"color:#3366cc\">Hint:</span> The variable `has_basement` is either `True` or `False`.  What happens when you multiply it by 40000 (the value of a basement)?  Refer to the previous question if you are unsure."
      ],
      "text/plain": [
       "Hint: The variable `has_basement` is either `True` or `False`.  What happens when you multiply it by 40000 (the value of a basement)?  Refer to the previous question if you are unsure."
      ]
     },
     "metadata": {},
     "output_type": "display_data"
    },
    {
     "data": {
      "application/javascript": [
       "parent.postMessage({\"jupyterEvent\": \"custom.exercise_interaction\", \"data\": {\"interactionType\": 3, \"questionType\": 2, \"questionId\": \"3_EstimateHouseValueBool\", \"learnToolsVersion\": \"0.3.4\", \"valueTowardsCompletion\": 0.0, \"failureMessage\": \"\", \"exceptionClass\": \"\", \"trace\": \"\", \"outcomeType\": 4}}, \"*\")"
      ],
      "text/plain": [
       "<IPython.core.display.Javascript object>"
      ]
     },
     "metadata": {},
     "output_type": "display_data"
    },
    {
     "data": {
      "text/markdown": [
       "<span style=\"color:#33cc99\">Solution:</span> \n",
       "```python\n",
       "def get_expected_cost(beds, baths, has_basement):\n",
       "    value = 80000 + 30000 * beds + 10000 * baths + 40000 * has_basement\n",
       "    return value\n",
       "\n",
       "```"
      ],
      "text/plain": [
       "Solution: \n",
       "```python\n",
       "def get_expected_cost(beds, baths, has_basement):\n",
       "    value = 80000 + 30000 * beds + 10000 * baths + 40000 * has_basement\n",
       "    return value\n",
       "\n",
       "```"
      ]
     },
     "metadata": {},
     "output_type": "display_data"
    }
   ],
   "source": [
    "# Uncomment to see a hint\n",
    "q3.hint()\n",
    "\n",
    "# Uncomment to view the solution\n",
    "q3.solution()"
   ]
  },
  {
   "cell_type": "markdown",
   "id": "657cbeaa",
   "metadata": {
    "papermill": {
     "duration": 0.010669,
     "end_time": "2024-07-10T22:42:14.238258",
     "exception": false,
     "start_time": "2024-07-10T22:42:14.227589",
     "status": "completed"
    },
    "tags": []
   },
   "source": [
    "# Question 4\n",
    "\n",
    "We'll continue our study of boolean arithmetic.  For this question, your task is to provide a description of what happpens when you add booleans. \n",
    "\n",
    "Use the next code cell for your investigation.  Feel free to add or remove any lines of code - use it as your workspace!"
   ]
  },
  {
   "cell_type": "code",
   "execution_count": 9,
   "id": "bbb43f72",
   "metadata": {
    "execution": {
     "iopub.execute_input": "2024-07-10T22:42:14.262953Z",
     "iopub.status.busy": "2024-07-10T22:42:14.262564Z",
     "iopub.status.idle": "2024-07-10T22:42:14.269098Z",
     "shell.execute_reply": "2024-07-10T22:42:14.267776Z"
    },
    "papermill": {
     "duration": 0.022128,
     "end_time": "2024-07-10T22:42:14.272371",
     "exception": false,
     "start_time": "2024-07-10T22:42:14.250243",
     "status": "completed"
    },
    "tags": []
   },
   "outputs": [
    {
     "name": "stdout",
     "output_type": "stream",
     "text": [
      "0\n",
      "1\n",
      "1\n",
      "2\n",
      "3\n"
     ]
    }
   ],
   "source": [
    "print(False + False)\n",
    "print(True + False)\n",
    "print(False + True)\n",
    "print(True + True)\n",
    "print(False + True + True + True)"
   ]
  },
  {
   "cell_type": "markdown",
   "id": "18b79438",
   "metadata": {
    "papermill": {
     "duration": 0.011231,
     "end_time": "2024-07-10T22:42:14.295055",
     "exception": false,
     "start_time": "2024-07-10T22:42:14.283824",
     "status": "completed"
    },
    "tags": []
   },
   "source": [
    "Once you have an answer, run the code cell below to see the solution.  Viewing the solution will give you credit for answering the problem."
   ]
  },
  {
   "cell_type": "code",
   "execution_count": 10,
   "id": "dd29de85",
   "metadata": {
    "execution": {
     "iopub.execute_input": "2024-07-10T22:42:14.318739Z",
     "iopub.status.busy": "2024-07-10T22:42:14.318286Z",
     "iopub.status.idle": "2024-07-10T22:42:14.328438Z",
     "shell.execute_reply": "2024-07-10T22:42:14.327237Z"
    },
    "papermill": {
     "duration": 0.02557,
     "end_time": "2024-07-10T22:42:14.331412",
     "exception": false,
     "start_time": "2024-07-10T22:42:14.305842",
     "status": "completed"
    },
    "tags": []
   },
   "outputs": [
    {
     "data": {
      "application/javascript": [
       "parent.postMessage({\"jupyterEvent\": \"custom.exercise_interaction\", \"data\": {\"outcomeType\": 1, \"valueTowardsCompletion\": 0.2, \"interactionType\": 1, \"questionType\": 4, \"questionId\": \"4_AddingBooleans\", \"learnToolsVersion\": \"0.3.4\", \"failureMessage\": \"\", \"exceptionClass\": \"\", \"trace\": \"\"}}, \"*\")"
      ],
      "text/plain": [
       "<IPython.core.display.Javascript object>"
      ]
     },
     "metadata": {},
     "output_type": "display_data"
    },
    {
     "data": {
      "text/markdown": [
       "<span style=\"color:#33cc33\">Correct:</span> \n",
       "\n",
       "When you add booleans, adding `False` is equivalent to adding 0, and adding `True` is equivalent to adding 1."
      ],
      "text/plain": [
       "Correct: \n",
       "\n",
       "When you add booleans, adding `False` is equivalent to adding 0, and adding `True` is equivalent to adding 1."
      ]
     },
     "metadata": {},
     "output_type": "display_data"
    }
   ],
   "source": [
    "# Check your answer (Run this code cell to receive credit!)\n",
    "q4.check()"
   ]
  },
  {
   "cell_type": "markdown",
   "id": "60ddfd52",
   "metadata": {
    "papermill": {
     "duration": 0.011024,
     "end_time": "2024-07-10T22:42:14.353753",
     "exception": false,
     "start_time": "2024-07-10T22:42:14.342729",
     "status": "completed"
    },
    "tags": []
   },
   "source": [
    "# 🌶️ Question 5\n",
    "\n",
    "You own an online shop where you sell rings with custom engravings.  You offer both gold plated and solid gold rings.\n",
    "- Gold plated rings have a base cost of \\\\$50, and you charge \\\\$7 per engraved unit.  \n",
    "- Solid gold rings have a base cost of \\\\$100, and you charge \\\\$10 per engraved unit.\n",
    "- Spaces and punctuation are counted as engraved units.\n",
    "\n",
    "Write a function `cost_of_project()` that takes two arguments:\n",
    "- `engraving` - a Python string with the text of the engraving\n",
    "- `solid_gold` - a Boolean that indicates whether the ring is solid gold\n",
    "\n",
    "It should return the cost of the project.  This question should be fairly challenging, and you may need a hint."
   ]
  },
  {
   "cell_type": "code",
   "execution_count": 11,
   "id": "f04308da",
   "metadata": {
    "execution": {
     "iopub.execute_input": "2024-07-10T22:42:14.378262Z",
     "iopub.status.busy": "2024-07-10T22:42:14.377849Z",
     "iopub.status.idle": "2024-07-10T22:42:14.389341Z",
     "shell.execute_reply": "2024-07-10T22:42:14.388199Z"
    },
    "papermill": {
     "duration": 0.026668,
     "end_time": "2024-07-10T22:42:14.391839",
     "exception": false,
     "start_time": "2024-07-10T22:42:14.365171",
     "status": "completed"
    },
    "tags": []
   },
   "outputs": [
    {
     "data": {
      "application/javascript": [
       "parent.postMessage({\"jupyterEvent\": \"custom.exercise_interaction\", \"data\": {\"outcomeType\": 1, \"valueTowardsCompletion\": 0.2, \"interactionType\": 1, \"questionType\": 2, \"questionId\": \"5_CustomEngravings\", \"learnToolsVersion\": \"0.3.4\", \"failureMessage\": \"\", \"exceptionClass\": \"\", \"trace\": \"\"}}, \"*\")"
      ],
      "text/plain": [
       "<IPython.core.display.Javascript object>"
      ]
     },
     "metadata": {},
     "output_type": "display_data"
    },
    {
     "data": {
      "text/markdown": [
       "<span style=\"color:#33cc33\">Correct</span>"
      ],
      "text/plain": [
       "Correct"
      ]
     },
     "metadata": {},
     "output_type": "display_data"
    }
   ],
   "source": [
    "def cost_of_project(engraving, solid_gold):\n",
    "    if solid_gold == True:\n",
    "        cost = 100 + (10 * len(engraving))\n",
    "    else:\n",
    "        cost = 50 + (7 * len(engraving))\n",
    "    return cost\n",
    "\n",
    "# Check your answer\n",
    "q5.check()"
   ]
  },
  {
   "cell_type": "code",
   "execution_count": 12,
   "id": "be4407db",
   "metadata": {
    "execution": {
     "iopub.execute_input": "2024-07-10T22:42:14.417066Z",
     "iopub.status.busy": "2024-07-10T22:42:14.416668Z",
     "iopub.status.idle": "2024-07-10T22:42:14.430570Z",
     "shell.execute_reply": "2024-07-10T22:42:14.429475Z"
    },
    "papermill": {
     "duration": 0.02956,
     "end_time": "2024-07-10T22:42:14.433085",
     "exception": false,
     "start_time": "2024-07-10T22:42:14.403525",
     "status": "completed"
    },
    "tags": []
   },
   "outputs": [
    {
     "data": {
      "application/javascript": [
       "parent.postMessage({\"jupyterEvent\": \"custom.exercise_interaction\", \"data\": {\"interactionType\": 2, \"questionType\": 2, \"questionId\": \"5_CustomEngravings\", \"learnToolsVersion\": \"0.3.4\", \"valueTowardsCompletion\": 0.0, \"failureMessage\": \"\", \"exceptionClass\": \"\", \"trace\": \"\", \"outcomeType\": 4}}, \"*\")"
      ],
      "text/plain": [
       "<IPython.core.display.Javascript object>"
      ]
     },
     "metadata": {},
     "output_type": "display_data"
    },
    {
     "data": {
      "text/markdown": [
       "<span style=\"color:#3366cc\">Hint:</span> There are two options - either the project uses solid gold or does not.  With this in mind, you can structure your solution like this: `cost = solid_gold * ____ + (not solid_gold) * ____`.  You need to figure out how to fill in the blanks. Also, remember that:\n",
       "- If `solid_gold = True`, then `(not solid_gold) = False`, and if `solid_gold = False`, then `(not solid_gold) = True`.\n",
       "- Multiplying an integer by `True` is equivalent to multiplying it by 1, and multiplying an integer by `False` is equivalent to multiplying it by 0."
      ],
      "text/plain": [
       "Hint: There are two options - either the project uses solid gold or does not.  With this in mind, you can structure your solution like this: `cost = solid_gold * ____ + (not solid_gold) * ____`.  You need to figure out how to fill in the blanks. Also, remember that:\n",
       "- If `solid_gold = True`, then `(not solid_gold) = False`, and if `solid_gold = False`, then `(not solid_gold) = True`.\n",
       "- Multiplying an integer by `True` is equivalent to multiplying it by 1, and multiplying an integer by `False` is equivalent to multiplying it by 0."
      ]
     },
     "metadata": {},
     "output_type": "display_data"
    },
    {
     "data": {
      "application/javascript": [
       "parent.postMessage({\"jupyterEvent\": \"custom.exercise_interaction\", \"data\": {\"interactionType\": 3, \"questionType\": 2, \"questionId\": \"5_CustomEngravings\", \"learnToolsVersion\": \"0.3.4\", \"valueTowardsCompletion\": 0.0, \"failureMessage\": \"\", \"exceptionClass\": \"\", \"trace\": \"\", \"outcomeType\": 4}}, \"*\")"
      ],
      "text/plain": [
       "<IPython.core.display.Javascript object>"
      ]
     },
     "metadata": {},
     "output_type": "display_data"
    },
    {
     "data": {
      "text/markdown": [
       "<span style=\"color:#33cc99\">Solution:</span> \n",
       "```python\n",
       "def cost_of_project(engraving, solid_gold):\n",
       "    cost = solid_gold * (100 + 10 * len(engraving)) + (not solid_gold) * (50 + 7 * len(engraving))\n",
       "    return cost\n",
       "\n",
       "```"
      ],
      "text/plain": [
       "Solution: \n",
       "```python\n",
       "def cost_of_project(engraving, solid_gold):\n",
       "    cost = solid_gold * (100 + 10 * len(engraving)) + (not solid_gold) * (50 + 7 * len(engraving))\n",
       "    return cost\n",
       "\n",
       "```"
      ]
     },
     "metadata": {},
     "output_type": "display_data"
    }
   ],
   "source": [
    "# Uncomment to see a hint\n",
    "q5.hint()\n",
    "\n",
    "# Uncomment to view the solution\n",
    "q5.solution()"
   ]
  },
  {
   "cell_type": "markdown",
   "id": "0b4290ed",
   "metadata": {
    "papermill": {
     "duration": 0.012076,
     "end_time": "2024-07-10T22:42:14.457406",
     "exception": false,
     "start_time": "2024-07-10T22:42:14.445330",
     "status": "completed"
    },
    "tags": []
   },
   "source": [
    "Run the next code cell to calculate the cost of engraving `Charlie+Denver` on a solid gold ring."
   ]
  },
  {
   "cell_type": "code",
   "execution_count": 13,
   "id": "25c29ad5",
   "metadata": {
    "execution": {
     "iopub.execute_input": "2024-07-10T22:42:14.483899Z",
     "iopub.status.busy": "2024-07-10T22:42:14.483500Z",
     "iopub.status.idle": "2024-07-10T22:42:14.489409Z",
     "shell.execute_reply": "2024-07-10T22:42:14.488142Z"
    },
    "papermill": {
     "duration": 0.022854,
     "end_time": "2024-07-10T22:42:14.492382",
     "exception": false,
     "start_time": "2024-07-10T22:42:14.469528",
     "status": "completed"
    },
    "tags": []
   },
   "outputs": [
    {
     "name": "stdout",
     "output_type": "stream",
     "text": [
      "240\n"
     ]
    }
   ],
   "source": [
    "project_one = cost_of_project(\"Charlie+Denver\", True)\n",
    "print(project_one)"
   ]
  },
  {
   "cell_type": "markdown",
   "id": "239df15d",
   "metadata": {
    "papermill": {
     "duration": 0.011928,
     "end_time": "2024-07-10T22:42:14.516633",
     "exception": false,
     "start_time": "2024-07-10T22:42:14.504705",
     "status": "completed"
    },
    "tags": []
   },
   "source": [
    "Use the next code cell to calculate the cost of engraving `08/10/2000` on a gold plated ring."
   ]
  },
  {
   "cell_type": "code",
   "execution_count": 14,
   "id": "481d7a97",
   "metadata": {
    "execution": {
     "iopub.execute_input": "2024-07-10T22:42:14.543337Z",
     "iopub.status.busy": "2024-07-10T22:42:14.542427Z",
     "iopub.status.idle": "2024-07-10T22:42:14.548280Z",
     "shell.execute_reply": "2024-07-10T22:42:14.547160Z"
    },
    "papermill": {
     "duration": 0.022265,
     "end_time": "2024-07-10T22:42:14.551149",
     "exception": false,
     "start_time": "2024-07-10T22:42:14.528884",
     "status": "completed"
    },
    "tags": []
   },
   "outputs": [
    {
     "name": "stdout",
     "output_type": "stream",
     "text": [
      "120\n"
     ]
    }
   ],
   "source": [
    "project_two = cost_of_project(\"08/10/2000\", False)\n",
    "print(project_two)"
   ]
  },
  {
   "cell_type": "markdown",
   "id": "a559e602",
   "metadata": {
    "papermill": {
     "duration": 0.012054,
     "end_time": "2024-07-10T22:42:14.577978",
     "exception": false,
     "start_time": "2024-07-10T22:42:14.565924",
     "status": "completed"
    },
    "tags": []
   },
   "source": [
    "# Keep going\n",
    "\n",
    "Continue to the next lesson to **[learn about conditions and conditional statements](https://www.kaggle.com/alexisbcook/conditions-and-conditional-statements)**."
   ]
  },
  {
   "cell_type": "markdown",
   "id": "75698fc8",
   "metadata": {
    "papermill": {
     "duration": 0.011804,
     "end_time": "2024-07-10T22:42:14.602320",
     "exception": false,
     "start_time": "2024-07-10T22:42:14.590516",
     "status": "completed"
    },
    "tags": []
   },
   "source": [
    "---\n",
    "\n",
    "\n",
    "\n",
    "\n",
    "*Have questions or comments? Visit the [course discussion forum](https://www.kaggle.com/learn/intro-to-programming/discussion) to chat with other learners.*"
   ]
  }
 ],
 "metadata": {
  "kaggle": {
   "accelerator": "none",
   "dataSources": [],
   "isGpuEnabled": false,
   "isInternetEnabled": false,
   "language": "python",
   "sourceType": "notebook"
  },
  "kernelspec": {
   "display_name": "Python 3",
   "language": "python",
   "name": "python3"
  },
  "language_info": {
   "codemirror_mode": {
    "name": "ipython",
    "version": 3
   },
   "file_extension": ".py",
   "mimetype": "text/x-python",
   "name": "python",
   "nbconvert_exporter": "python",
   "pygments_lexer": "ipython3",
   "version": "3.10.13"
  },
  "papermill": {
   "default_parameters": {},
   "duration": 5.580778,
   "end_time": "2024-07-10T22:42:15.136582",
   "environment_variables": {},
   "exception": null,
   "input_path": "__notebook__.ipynb",
   "output_path": "__notebook__.ipynb",
   "parameters": {},
   "start_time": "2024-07-10T22:42:09.555804",
   "version": "2.3.3"
  }
 },
 "nbformat": 4,
 "nbformat_minor": 5
}
