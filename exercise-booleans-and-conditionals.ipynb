{
 "cells": [
  {
   "cell_type": "markdown",
   "id": "a58c233d",
   "metadata": {
    "papermill": {
     "duration": 0.009067,
     "end_time": "2024-07-10T22:17:54.215247",
     "exception": false,
     "start_time": "2024-07-10T22:17:54.206180",
     "status": "completed"
    },
    "tags": []
   },
   "source": [
    "**This notebook is an exercise in the [Python](https://www.kaggle.com/learn/python) course.  You can reference the tutorial at [this link](https://www.kaggle.com/colinmorris/booleans-and-conditionals).**\n",
    "\n",
    "---\n"
   ]
  },
  {
   "cell_type": "markdown",
   "id": "88925a89",
   "metadata": {
    "papermill": {
     "duration": 0.008127,
     "end_time": "2024-07-10T22:17:54.232126",
     "exception": false,
     "start_time": "2024-07-10T22:17:54.223999",
     "status": "completed"
    },
    "tags": []
   },
   "source": [
    "In this exercise, you'll put to work what you have learned about booleans and conditionals.\n",
    "\n",
    "To get started, **run the setup code below** before writing your own code (and if you leave this notebook and come back later, don't forget to run the setup code again)."
   ]
  },
  {
   "cell_type": "code",
   "execution_count": 1,
   "id": "8f9b6425",
   "metadata": {
    "execution": {
     "iopub.execute_input": "2024-07-10T22:17:54.250784Z",
     "iopub.status.busy": "2024-07-10T22:17:54.250392Z",
     "iopub.status.idle": "2024-07-10T22:17:55.241637Z",
     "shell.execute_reply": "2024-07-10T22:17:55.240587Z"
    },
    "papermill": {
     "duration": 1.003283,
     "end_time": "2024-07-10T22:17:55.243979",
     "exception": false,
     "start_time": "2024-07-10T22:17:54.240696",
     "status": "completed"
    },
    "tags": []
   },
   "outputs": [
    {
     "name": "stdout",
     "output_type": "stream",
     "text": [
      "Setup complete.\n"
     ]
    }
   ],
   "source": [
    "from learntools.core import binder; binder.bind(globals())\n",
    "from learntools.python.ex3 import *\n",
    "print('Setup complete.')"
   ]
  },
  {
   "cell_type": "markdown",
   "id": "e3d4d300",
   "metadata": {
    "papermill": {
     "duration": 0.008264,
     "end_time": "2024-07-10T22:17:55.261069",
     "exception": false,
     "start_time": "2024-07-10T22:17:55.252805",
     "status": "completed"
    },
    "tags": []
   },
   "source": [
    "# 1.\n",
    "\n",
    "Many programming languages have [`sign`](https://en.wikipedia.org/wiki/Sign_function) available as a built-in function. Python doesn't, but we can define our own!\n",
    "\n",
    "In the cell below, define a function called `sign` which takes a numerical argument and returns -1 if it's negative, 1 if it's positive, and 0 if it's 0."
   ]
  },
  {
   "cell_type": "code",
   "execution_count": 2,
   "id": "7403be4a",
   "metadata": {
    "execution": {
     "iopub.execute_input": "2024-07-10T22:17:55.280082Z",
     "iopub.status.busy": "2024-07-10T22:17:55.279601Z",
     "iopub.status.idle": "2024-07-10T22:17:55.289969Z",
     "shell.execute_reply": "2024-07-10T22:17:55.288950Z"
    },
    "papermill": {
     "duration": 0.022555,
     "end_time": "2024-07-10T22:17:55.292248",
     "exception": false,
     "start_time": "2024-07-10T22:17:55.269693",
     "status": "completed"
    },
    "tags": []
   },
   "outputs": [
    {
     "data": {
      "application/javascript": [
       "parent.postMessage({\"jupyterEvent\": \"custom.exercise_interaction\", \"data\": {\"outcomeType\": 1, \"valueTowardsCompletion\": 0.2, \"interactionType\": 1, \"questionType\": 2, \"questionId\": \"1_SignFunctionProblem\", \"learnToolsVersion\": \"0.3.4\", \"failureMessage\": \"\", \"exceptionClass\": \"\", \"trace\": \"\"}}, \"*\")"
      ],
      "text/plain": [
       "<IPython.core.display.Javascript object>"
      ]
     },
     "metadata": {},
     "output_type": "display_data"
    },
    {
     "data": {
      "text/markdown": [
       "<span style=\"color:#33cc33\">Correct</span>"
      ],
      "text/plain": [
       "Correct"
      ]
     },
     "metadata": {},
     "output_type": "display_data"
    }
   ],
   "source": [
    "# Your code goes here. Define a function called 'sign'\n",
    "def sign(x):\n",
    "    if x < 0:\n",
    "        return -1\n",
    "    elif x > 0:\n",
    "        return 1\n",
    "    else:\n",
    "        return 0\n",
    "# Check your answer\n",
    "q1.check()"
   ]
  },
  {
   "cell_type": "code",
   "execution_count": 3,
   "id": "fc8616df",
   "metadata": {
    "execution": {
     "iopub.execute_input": "2024-07-10T22:17:55.312668Z",
     "iopub.status.busy": "2024-07-10T22:17:55.312261Z",
     "iopub.status.idle": "2024-07-10T22:17:55.321799Z",
     "shell.execute_reply": "2024-07-10T22:17:55.320684Z"
    },
    "papermill": {
     "duration": 0.022791,
     "end_time": "2024-07-10T22:17:55.323982",
     "exception": false,
     "start_time": "2024-07-10T22:17:55.301191",
     "status": "completed"
    },
    "tags": []
   },
   "outputs": [
    {
     "data": {
      "application/javascript": [
       "parent.postMessage({\"jupyterEvent\": \"custom.exercise_interaction\", \"data\": {\"interactionType\": 3, \"questionType\": 2, \"questionId\": \"1_SignFunctionProblem\", \"learnToolsVersion\": \"0.3.4\", \"valueTowardsCompletion\": 0.0, \"failureMessage\": \"\", \"exceptionClass\": \"\", \"trace\": \"\", \"outcomeType\": 4}}, \"*\")"
      ],
      "text/plain": [
       "<IPython.core.display.Javascript object>"
      ]
     },
     "metadata": {},
     "output_type": "display_data"
    },
    {
     "data": {
      "text/markdown": [
       "<span style=\"color:#33cc99\">Solution:</span> \n",
       "```python\n",
       "def sign(x):\n",
       "    if x > 0:\n",
       "        return 1\n",
       "    elif x < 0:\n",
       "        return -1\n",
       "    else:\n",
       "        return 0\n",
       "```"
      ],
      "text/plain": [
       "Solution: \n",
       "```python\n",
       "def sign(x):\n",
       "    if x > 0:\n",
       "        return 1\n",
       "    elif x < 0:\n",
       "        return -1\n",
       "    else:\n",
       "        return 0\n",
       "```"
      ]
     },
     "metadata": {},
     "output_type": "display_data"
    }
   ],
   "source": [
    "q1.solution()"
   ]
  },
  {
   "cell_type": "markdown",
   "id": "8de739c4",
   "metadata": {
    "papermill": {
     "duration": 0.008964,
     "end_time": "2024-07-10T22:17:55.342331",
     "exception": false,
     "start_time": "2024-07-10T22:17:55.333367",
     "status": "completed"
    },
    "tags": []
   },
   "source": [
    "# 2.\n",
    "\n",
    "We've decided to add \"logging\" to our `to_smash` function from the previous exercise."
   ]
  },
  {
   "cell_type": "code",
   "execution_count": 4,
   "id": "1b1b1b9d",
   "metadata": {
    "execution": {
     "iopub.execute_input": "2024-07-10T22:17:55.363306Z",
     "iopub.status.busy": "2024-07-10T22:17:55.362904Z",
     "iopub.status.idle": "2024-07-10T22:17:55.371350Z",
     "shell.execute_reply": "2024-07-10T22:17:55.370125Z"
    },
    "papermill": {
     "duration": 0.021563,
     "end_time": "2024-07-10T22:17:55.373954",
     "exception": false,
     "start_time": "2024-07-10T22:17:55.352391",
     "status": "completed"
    },
    "tags": []
   },
   "outputs": [
    {
     "name": "stdout",
     "output_type": "stream",
     "text": [
      "Splitting 91 candies\n"
     ]
    },
    {
     "data": {
      "text/plain": [
       "1"
      ]
     },
     "execution_count": 4,
     "metadata": {},
     "output_type": "execute_result"
    }
   ],
   "source": [
    "def to_smash(total_candies):\n",
    "    \"\"\"Return the number of leftover candies that must be smashed after distributing\n",
    "    the given number of candies evenly between 3 friends.\n",
    "    \n",
    "    >>> to_smash(91)\n",
    "    1\n",
    "    \"\"\"\n",
    "    print(\"Splitting\", total_candies, \"candies\")\n",
    "    return total_candies % 3\n",
    "\n",
    "to_smash(91)"
   ]
  },
  {
   "cell_type": "markdown",
   "id": "61586906",
   "metadata": {
    "papermill": {
     "duration": 0.009099,
     "end_time": "2024-07-10T22:17:55.392506",
     "exception": false,
     "start_time": "2024-07-10T22:17:55.383407",
     "status": "completed"
    },
    "tags": []
   },
   "source": [
    "What happens if we call it with `total_candies = 1`?"
   ]
  },
  {
   "cell_type": "code",
   "execution_count": 5,
   "id": "a734d4f9",
   "metadata": {
    "execution": {
     "iopub.execute_input": "2024-07-10T22:17:55.413168Z",
     "iopub.status.busy": "2024-07-10T22:17:55.412749Z",
     "iopub.status.idle": "2024-07-10T22:17:55.420493Z",
     "shell.execute_reply": "2024-07-10T22:17:55.418996Z"
    },
    "papermill": {
     "duration": 0.021577,
     "end_time": "2024-07-10T22:17:55.423700",
     "exception": false,
     "start_time": "2024-07-10T22:17:55.402123",
     "status": "completed"
    },
    "tags": []
   },
   "outputs": [
    {
     "name": "stdout",
     "output_type": "stream",
     "text": [
      "Splitting 1 candies\n"
     ]
    },
    {
     "data": {
      "text/plain": [
       "1"
      ]
     },
     "execution_count": 5,
     "metadata": {},
     "output_type": "execute_result"
    }
   ],
   "source": [
    "to_smash(1)"
   ]
  },
  {
   "cell_type": "markdown",
   "id": "f9b08596",
   "metadata": {
    "papermill": {
     "duration": 0.00942,
     "end_time": "2024-07-10T22:17:55.443675",
     "exception": false,
     "start_time": "2024-07-10T22:17:55.434255",
     "status": "completed"
    },
    "tags": []
   },
   "source": [
    "That isn't great grammar!\n",
    "\n",
    "Modify the definition in the cell below to correct the grammar of our print statement. (If there's only one candy, we should use the singular \"candy\" instead of the plural \"candies\")"
   ]
  },
  {
   "cell_type": "code",
   "execution_count": 6,
   "id": "6578c177",
   "metadata": {
    "execution": {
     "iopub.execute_input": "2024-07-10T22:17:55.464778Z",
     "iopub.status.busy": "2024-07-10T22:17:55.464334Z",
     "iopub.status.idle": "2024-07-10T22:17:55.472902Z",
     "shell.execute_reply": "2024-07-10T22:17:55.471751Z"
    },
    "papermill": {
     "duration": 0.022673,
     "end_time": "2024-07-10T22:17:55.475987",
     "exception": false,
     "start_time": "2024-07-10T22:17:55.453314",
     "status": "completed"
    },
    "tags": []
   },
   "outputs": [
    {
     "name": "stdout",
     "output_type": "stream",
     "text": [
      "Splitting 91 candies\n",
      "Splitting 1 candy\n"
     ]
    },
    {
     "data": {
      "text/plain": [
       "1"
      ]
     },
     "execution_count": 6,
     "metadata": {},
     "output_type": "execute_result"
    }
   ],
   "source": [
    "def to_smash(total_candies):\n",
    "    \"\"\"Return the number of leftover candies that must be smashed after distributing\n",
    "    the given number of candies evenly between 3 friends.\n",
    "    \n",
    "    >>> to_smash(91)\n",
    "    1\n",
    "    \"\"\"\n",
    "    if total_candies == 1:\n",
    "        print(\"Splitting 1 candy\")\n",
    "    else:\n",
    "         print(\"Splitting\", total_candies, \"candies\")\n",
    "    return total_candies % 3\n",
    "\n",
    "to_smash(91)\n",
    "to_smash(1)"
   ]
  },
  {
   "cell_type": "markdown",
   "id": "d05ac7bb",
   "metadata": {
    "papermill": {
     "duration": 0.009428,
     "end_time": "2024-07-10T22:17:55.495231",
     "exception": false,
     "start_time": "2024-07-10T22:17:55.485803",
     "status": "completed"
    },
    "tags": []
   },
   "source": [
    "To get credit for completing this problem, and to see the official answer, run the code cell below."
   ]
  },
  {
   "cell_type": "code",
   "execution_count": 7,
   "id": "6e2d3428",
   "metadata": {
    "execution": {
     "iopub.execute_input": "2024-07-10T22:17:55.517565Z",
     "iopub.status.busy": "2024-07-10T22:17:55.516681Z",
     "iopub.status.idle": "2024-07-10T22:17:55.525567Z",
     "shell.execute_reply": "2024-07-10T22:17:55.524521Z"
    },
    "papermill": {
     "duration": 0.022701,
     "end_time": "2024-07-10T22:17:55.527781",
     "exception": false,
     "start_time": "2024-07-10T22:17:55.505080",
     "status": "completed"
    },
    "tags": []
   },
   "outputs": [
    {
     "data": {
      "application/javascript": [
       "parent.postMessage({\"jupyterEvent\": \"custom.exercise_interaction\", \"data\": {\"interactionType\": 3, \"questionType\": 4, \"questionId\": \"2_PluralizationProblem\", \"learnToolsVersion\": \"0.3.4\", \"valueTowardsCompletion\": 0.0, \"failureMessage\": \"\", \"exceptionClass\": \"\", \"trace\": \"\", \"outcomeType\": 4}}, \"*\")"
      ],
      "text/plain": [
       "<IPython.core.display.Javascript object>"
      ]
     },
     "metadata": {},
     "output_type": "display_data"
    },
    {
     "data": {
      "text/markdown": [
       "<span style=\"color:#33cc99\">Solution:</span> A straightforward (and totally fine) solution is to replace the original `print` call with:\n",
       "\n",
       "```python\n",
       "if total_candies == 1:\n",
       "    print(\"Splitting 1 candy\")\n",
       "else:\n",
       "    print(\"Splitting\", total_candies, \"candies\")\n",
       "```\n",
       "\n",
       "Here's a slightly more succinct solution using a conditional expression:\n",
       "\n",
       "```python\n",
       "print(\"Splitting\", total_candies, \"candy\" if total_candies == 1 else \"candies\")\n",
       "```"
      ],
      "text/plain": [
       "Solution: A straightforward (and totally fine) solution is to replace the original `print` call with:\n",
       "\n",
       "```python\n",
       "if total_candies == 1:\n",
       "    print(\"Splitting 1 candy\")\n",
       "else:\n",
       "    print(\"Splitting\", total_candies, \"candies\")\n",
       "```\n",
       "\n",
       "Here's a slightly more succinct solution using a conditional expression:\n",
       "\n",
       "```python\n",
       "print(\"Splitting\", total_candies, \"candy\" if total_candies == 1 else \"candies\")\n",
       "```"
      ]
     },
     "metadata": {},
     "output_type": "display_data"
    }
   ],
   "source": [
    "# Check your answer (Run this code cell to receive credit!)\n",
    "q2.solution()"
   ]
  },
  {
   "cell_type": "markdown",
   "id": "94417a76",
   "metadata": {
    "papermill": {
     "duration": 0.010037,
     "end_time": "2024-07-10T22:17:55.548039",
     "exception": false,
     "start_time": "2024-07-10T22:17:55.538002",
     "status": "completed"
    },
    "tags": []
   },
   "source": [
    "# 3. <span title=\"A bit spicy\" style=\"color: darkgreen \">🌶️</span>\n",
    "\n",
    "In the tutorial, we talked about deciding whether we're prepared for the weather. I said that I'm safe from today's weather if...\n",
    "- I have an umbrella...\n",
    "- or if the rain isn't too heavy and I have a hood...\n",
    "- otherwise, I'm still fine unless it's raining *and* it's a workday\n",
    "\n",
    "The function below uses our first attempt at turning this logic into a Python expression. I claimed that there was a bug in that code. Can you find it?\n",
    "\n",
    "To prove that `prepared_for_weather` is buggy, come up with a set of inputs where either:\n",
    "- the function returns `False` (but should have returned `True`), or\n",
    "- the function returned `True` (but should have returned `False`).\n",
    "\n",
    "To get credit for completing this question, your code should return a <font color='#33cc33'>Correct</font> result."
   ]
  },
  {
   "cell_type": "code",
   "execution_count": 8,
   "id": "a67b050e",
   "metadata": {
    "execution": {
     "iopub.execute_input": "2024-07-10T22:17:55.570167Z",
     "iopub.status.busy": "2024-07-10T22:17:55.569764Z",
     "iopub.status.idle": "2024-07-10T22:17:55.580861Z",
     "shell.execute_reply": "2024-07-10T22:17:55.579870Z"
    },
    "papermill": {
     "duration": 0.024897,
     "end_time": "2024-07-10T22:17:55.583408",
     "exception": false,
     "start_time": "2024-07-10T22:17:55.558511",
     "status": "completed"
    },
    "tags": []
   },
   "outputs": [
    {
     "name": "stdout",
     "output_type": "stream",
     "text": [
      "False\n"
     ]
    },
    {
     "data": {
      "application/javascript": [
       "parent.postMessage({\"jupyterEvent\": \"custom.exercise_interaction\", \"data\": {\"outcomeType\": 1, \"valueTowardsCompletion\": 0.2, \"interactionType\": 1, \"questionType\": 1, \"questionId\": \"3_WeatherDebug\", \"learnToolsVersion\": \"0.3.4\", \"failureMessage\": \"\", \"exceptionClass\": \"\", \"trace\": \"\"}}, \"*\")"
      ],
      "text/plain": [
       "<IPython.core.display.Javascript object>"
      ]
     },
     "metadata": {},
     "output_type": "display_data"
    },
    {
     "data": {
      "text/markdown": [
       "<span style=\"color:#33cc33\">Correct:</span> \n",
       "\n",
       "One example of a failing test case is:\n",
       "\n",
       "```python\n",
       "have_umbrella = False\n",
       "rain_level = 0.0\n",
       "have_hood = False\n",
       "is_workday = False\n",
       "```\n",
       "\n",
       "Clearly we're prepared for the weather in this case. It's not raining. Not only that, it's not a workday, so we don't even need to leave the house! But our function will return False on these inputs.\n",
       "\n",
       "The key problem is that Python implictly parenthesizes the last part as:\n",
       "\n",
       "```python\n",
       "(not (rain_level > 0)) and is_workday\n",
       "```\n",
       "\n",
       "Whereas what we were trying to express would look more like:\n",
       "\n",
       "```python\n",
       "not (rain_level > 0 and is_workday)\n",
       "```\n"
      ],
      "text/plain": [
       "Correct: \n",
       "\n",
       "One example of a failing test case is:\n",
       "\n",
       "```python\n",
       "have_umbrella = False\n",
       "rain_level = 0.0\n",
       "have_hood = False\n",
       "is_workday = False\n",
       "```\n",
       "\n",
       "Clearly we're prepared for the weather in this case. It's not raining. Not only that, it's not a workday, so we don't even need to leave the house! But our function will return False on these inputs.\n",
       "\n",
       "The key problem is that Python implictly parenthesizes the last part as:\n",
       "\n",
       "```python\n",
       "(not (rain_level > 0)) and is_workday\n",
       "```\n",
       "\n",
       "Whereas what we were trying to express would look more like:\n",
       "\n",
       "```python\n",
       "not (rain_level > 0 and is_workday)\n",
       "```"
      ]
     },
     "metadata": {},
     "output_type": "display_data"
    }
   ],
   "source": [
    "def prepared_for_weather(have_umbrella, rain_level, have_hood, is_workday):\n",
    "    # Don't change this code. Our goal is just to find the bug, not fix it!\n",
    "    return have_umbrella or rain_level < 5 and have_hood or not rain_level > 0 and is_workday\n",
    "\n",
    "# Change the values of these inputs so they represent a case where prepared_for_weather\n",
    "# returns the wrong answer.\n",
    "have_umbrella = False\n",
    "rain_level = 0\n",
    "have_hood = False\n",
    "is_workday = False\n",
    "\n",
    "# Check what the function returns given the current values of the variables above\n",
    "actual = prepared_for_weather(have_umbrella, rain_level, have_hood, is_workday)\n",
    "print(actual)\n",
    "\n",
    "# Check your answer\n",
    "q3.check()"
   ]
  },
  {
   "cell_type": "code",
   "execution_count": 9,
   "id": "4387cb83",
   "metadata": {
    "execution": {
     "iopub.execute_input": "2024-07-10T22:17:55.605686Z",
     "iopub.status.busy": "2024-07-10T22:17:55.605263Z",
     "iopub.status.idle": "2024-07-10T22:17:55.617065Z",
     "shell.execute_reply": "2024-07-10T22:17:55.616041Z"
    },
    "papermill": {
     "duration": 0.025665,
     "end_time": "2024-07-10T22:17:55.619347",
     "exception": false,
     "start_time": "2024-07-10T22:17:55.593682",
     "status": "completed"
    },
    "tags": []
   },
   "outputs": [
    {
     "data": {
      "application/javascript": [
       "parent.postMessage({\"jupyterEvent\": \"custom.exercise_interaction\", \"data\": {\"interactionType\": 2, \"questionType\": 1, \"questionId\": \"3_WeatherDebug\", \"learnToolsVersion\": \"0.3.4\", \"valueTowardsCompletion\": 0.0, \"failureMessage\": \"\", \"exceptionClass\": \"\", \"trace\": \"\", \"outcomeType\": 4}}, \"*\")"
      ],
      "text/plain": [
       "<IPython.core.display.Javascript object>"
      ]
     },
     "metadata": {},
     "output_type": "display_data"
    },
    {
     "data": {
      "text/markdown": [
       "<span style=\"color:#3366cc\">Hint:</span> Take a look at how we fixed our original expression in the main lesson. We added parentheses around certain subexpressions. The bug in this code is caused by Python evaluating certain operations in the \"wrong\" order."
      ],
      "text/plain": [
       "Hint: Take a look at how we fixed our original expression in the main lesson. We added parentheses around certain subexpressions. The bug in this code is caused by Python evaluating certain operations in the \"wrong\" order."
      ]
     },
     "metadata": {},
     "output_type": "display_data"
    },
    {
     "data": {
      "application/javascript": [
       "parent.postMessage({\"jupyterEvent\": \"custom.exercise_interaction\", \"data\": {\"interactionType\": 3, \"questionType\": 1, \"questionId\": \"3_WeatherDebug\", \"learnToolsVersion\": \"0.3.4\", \"valueTowardsCompletion\": 0.0, \"failureMessage\": \"\", \"exceptionClass\": \"\", \"trace\": \"\", \"outcomeType\": 4}}, \"*\")"
      ],
      "text/plain": [
       "<IPython.core.display.Javascript object>"
      ]
     },
     "metadata": {},
     "output_type": "display_data"
    },
    {
     "data": {
      "text/markdown": [
       "<span style=\"color:#33cc99\">Solution:</span> One example of a failing test case is:\n",
       "\n",
       "```python\n",
       "have_umbrella = False\n",
       "rain_level = 0.0\n",
       "have_hood = False\n",
       "is_workday = False\n",
       "```\n",
       "\n",
       "Clearly we're prepared for the weather in this case. It's not raining. Not only that, it's not a workday, so we don't even need to leave the house! But our function will return False on these inputs.\n",
       "\n",
       "The key problem is that Python implictly parenthesizes the last part as:\n",
       "\n",
       "```python\n",
       "(not (rain_level > 0)) and is_workday\n",
       "```\n",
       "\n",
       "Whereas what we were trying to express would look more like:\n",
       "\n",
       "```python\n",
       "not (rain_level > 0 and is_workday)\n",
       "```\n"
      ],
      "text/plain": [
       "Solution: One example of a failing test case is:\n",
       "\n",
       "```python\n",
       "have_umbrella = False\n",
       "rain_level = 0.0\n",
       "have_hood = False\n",
       "is_workday = False\n",
       "```\n",
       "\n",
       "Clearly we're prepared for the weather in this case. It's not raining. Not only that, it's not a workday, so we don't even need to leave the house! But our function will return False on these inputs.\n",
       "\n",
       "The key problem is that Python implictly parenthesizes the last part as:\n",
       "\n",
       "```python\n",
       "(not (rain_level > 0)) and is_workday\n",
       "```\n",
       "\n",
       "Whereas what we were trying to express would look more like:\n",
       "\n",
       "```python\n",
       "not (rain_level > 0 and is_workday)\n",
       "```"
      ]
     },
     "metadata": {},
     "output_type": "display_data"
    }
   ],
   "source": [
    "q3.hint()\n",
    "q3.solution()"
   ]
  },
  {
   "cell_type": "markdown",
   "id": "fad0eb8a",
   "metadata": {
    "papermill": {
     "duration": 0.011405,
     "end_time": "2024-07-10T22:17:55.642035",
     "exception": false,
     "start_time": "2024-07-10T22:17:55.630630",
     "status": "completed"
    },
    "tags": []
   },
   "source": [
    "# 4.\n",
    "\n",
    "The function `is_negative` below is implemented correctly - it returns True if the given number is negative and False otherwise.\n",
    "\n",
    "However, it's more verbose than it needs to be. We can actually reduce the number of lines of code in this function by *75%* while keeping the same behaviour. \n",
    "\n",
    "See if you can come up with an equivalent body that uses just **one line** of code, and put it in the function `concise_is_negative`. (HINT: you don't even need Python's ternary syntax)"
   ]
  },
  {
   "cell_type": "code",
   "execution_count": 10,
   "id": "9dd89f75",
   "metadata": {
    "execution": {
     "iopub.execute_input": "2024-07-10T22:17:55.666357Z",
     "iopub.status.busy": "2024-07-10T22:17:55.665443Z",
     "iopub.status.idle": "2024-07-10T22:17:55.674795Z",
     "shell.execute_reply": "2024-07-10T22:17:55.673707Z"
    },
    "papermill": {
     "duration": 0.024121,
     "end_time": "2024-07-10T22:17:55.677139",
     "exception": false,
     "start_time": "2024-07-10T22:17:55.653018",
     "status": "completed"
    },
    "tags": []
   },
   "outputs": [
    {
     "data": {
      "application/javascript": [
       "parent.postMessage({\"jupyterEvent\": \"custom.exercise_interaction\", \"data\": {\"outcomeType\": 1, \"valueTowardsCompletion\": 0.2, \"interactionType\": 1, \"questionType\": 2, \"questionId\": \"4_ConciseIsNegative\", \"learnToolsVersion\": \"0.3.4\", \"failureMessage\": \"\", \"exceptionClass\": \"\", \"trace\": \"\"}}, \"*\")"
      ],
      "text/plain": [
       "<IPython.core.display.Javascript object>"
      ]
     },
     "metadata": {},
     "output_type": "display_data"
    },
    {
     "data": {
      "text/markdown": [
       "<span style=\"color:#33cc33\">Correct</span>"
      ],
      "text/plain": [
       "Correct"
      ]
     },
     "metadata": {},
     "output_type": "display_data"
    }
   ],
   "source": [
    "def is_negative(number):\n",
    "    if number < 0:\n",
    "        return True\n",
    "    else:\n",
    "        return False\n",
    "\n",
    "def concise_is_negative(number):\n",
    "    return number < 0\n",
    "\n",
    "# Check your answer\n",
    "q4.check()"
   ]
  },
  {
   "cell_type": "code",
   "execution_count": 11,
   "id": "af4e105d",
   "metadata": {
    "execution": {
     "iopub.execute_input": "2024-07-10T22:17:55.701302Z",
     "iopub.status.busy": "2024-07-10T22:17:55.700914Z",
     "iopub.status.idle": "2024-07-10T22:17:55.712930Z",
     "shell.execute_reply": "2024-07-10T22:17:55.711907Z"
    },
    "papermill": {
     "duration": 0.026657,
     "end_time": "2024-07-10T22:17:55.715156",
     "exception": false,
     "start_time": "2024-07-10T22:17:55.688499",
     "status": "completed"
    },
    "tags": []
   },
   "outputs": [
    {
     "data": {
      "application/javascript": [
       "parent.postMessage({\"jupyterEvent\": \"custom.exercise_interaction\", \"data\": {\"interactionType\": 2, \"questionType\": 2, \"questionId\": \"4_ConciseIsNegative\", \"learnToolsVersion\": \"0.3.4\", \"valueTowardsCompletion\": 0.0, \"failureMessage\": \"\", \"exceptionClass\": \"\", \"trace\": \"\", \"outcomeType\": 4}}, \"*\")"
      ],
      "text/plain": [
       "<IPython.core.display.Javascript object>"
      ]
     },
     "metadata": {},
     "output_type": "display_data"
    },
    {
     "data": {
      "text/markdown": [
       "<span style=\"color:#3366cc\">Hint:</span> If the value of the expression `number < 0` is `True`, then we return `True`. If it's `False`, then we return `False`..."
      ],
      "text/plain": [
       "Hint: If the value of the expression `number < 0` is `True`, then we return `True`. If it's `False`, then we return `False`..."
      ]
     },
     "metadata": {},
     "output_type": "display_data"
    },
    {
     "data": {
      "application/javascript": [
       "parent.postMessage({\"jupyterEvent\": \"custom.exercise_interaction\", \"data\": {\"interactionType\": 3, \"questionType\": 2, \"questionId\": \"4_ConciseIsNegative\", \"learnToolsVersion\": \"0.3.4\", \"valueTowardsCompletion\": 0.0, \"failureMessage\": \"\", \"exceptionClass\": \"\", \"trace\": \"\", \"outcomeType\": 4}}, \"*\")"
      ],
      "text/plain": [
       "<IPython.core.display.Javascript object>"
      ]
     },
     "metadata": {},
     "output_type": "display_data"
    },
    {
     "data": {
      "text/markdown": [
       "<span style=\"color:#33cc99\">Solution:</span> \n",
       "```python\n",
       "return number < 0\n",
       "```"
      ],
      "text/plain": [
       "Solution: \n",
       "```python\n",
       "return number < 0\n",
       "```"
      ]
     },
     "metadata": {},
     "output_type": "display_data"
    }
   ],
   "source": [
    "q4.hint()\n",
    "q4.solution()"
   ]
  },
  {
   "cell_type": "markdown",
   "id": "1452d31c",
   "metadata": {
    "papermill": {
     "duration": 0.011489,
     "end_time": "2024-07-10T22:17:55.738406",
     "exception": false,
     "start_time": "2024-07-10T22:17:55.726917",
     "status": "completed"
    },
    "tags": []
   },
   "source": [
    "# 5a.\n",
    "\n",
    "The boolean variables `ketchup`, `mustard` and `onion` represent whether a customer wants a particular topping on their hot dog. We want to implement a number of boolean functions that correspond to some yes-or-no questions about the customer's order. For example:"
   ]
  },
  {
   "cell_type": "code",
   "execution_count": 12,
   "id": "2340b647",
   "metadata": {
    "execution": {
     "iopub.execute_input": "2024-07-10T22:17:55.763606Z",
     "iopub.status.busy": "2024-07-10T22:17:55.763192Z",
     "iopub.status.idle": "2024-07-10T22:17:55.768511Z",
     "shell.execute_reply": "2024-07-10T22:17:55.767467Z"
    },
    "papermill": {
     "duration": 0.020664,
     "end_time": "2024-07-10T22:17:55.770915",
     "exception": false,
     "start_time": "2024-07-10T22:17:55.750251",
     "status": "completed"
    },
    "tags": []
   },
   "outputs": [],
   "source": [
    "def onionless(ketchup, mustard, onion):\n",
    "    \"\"\"Return whether the customer doesn't want onions.\n",
    "    \"\"\"\n",
    "    return not onion"
   ]
  },
  {
   "cell_type": "code",
   "execution_count": 13,
   "id": "b3e9e70d",
   "metadata": {
    "execution": {
     "iopub.execute_input": "2024-07-10T22:17:55.796387Z",
     "iopub.status.busy": "2024-07-10T22:17:55.795994Z",
     "iopub.status.idle": "2024-07-10T22:17:55.805467Z",
     "shell.execute_reply": "2024-07-10T22:17:55.804362Z"
    },
    "papermill": {
     "duration": 0.024828,
     "end_time": "2024-07-10T22:17:55.807814",
     "exception": false,
     "start_time": "2024-07-10T22:17:55.782986",
     "status": "completed"
    },
    "tags": []
   },
   "outputs": [
    {
     "data": {
      "application/javascript": [
       "parent.postMessage({\"jupyterEvent\": \"custom.exercise_interaction\", \"data\": {\"outcomeType\": 1, \"valueTowardsCompletion\": 0.2, \"interactionType\": 1, \"questionType\": 2, \"questionId\": \"5.1_AllToppings\", \"learnToolsVersion\": \"0.3.4\", \"failureMessage\": \"\", \"exceptionClass\": \"\", \"trace\": \"\"}}, \"*\")"
      ],
      "text/plain": [
       "<IPython.core.display.Javascript object>"
      ]
     },
     "metadata": {},
     "output_type": "display_data"
    },
    {
     "data": {
      "text/markdown": [
       "<span style=\"color:#33cc33\">Correct</span>"
      ],
      "text/plain": [
       "Correct"
      ]
     },
     "metadata": {},
     "output_type": "display_data"
    }
   ],
   "source": [
    "def wants_all_toppings(ketchup, mustard, onion):\n",
    "    \"\"\"Return whether the customer wants \"the works\" (all 3 toppings)\n",
    "    \"\"\"\n",
    "    return ketchup and mustard and onion\n",
    "\n",
    "# Check your answer\n",
    "q5.a.check()"
   ]
  },
  {
   "cell_type": "code",
   "execution_count": 14,
   "id": "d690be2a",
   "metadata": {
    "execution": {
     "iopub.execute_input": "2024-07-10T22:17:55.834104Z",
     "iopub.status.busy": "2024-07-10T22:17:55.833565Z",
     "iopub.status.idle": "2024-07-10T22:17:55.845716Z",
     "shell.execute_reply": "2024-07-10T22:17:55.844587Z"
    },
    "papermill": {
     "duration": 0.02778,
     "end_time": "2024-07-10T22:17:55.848024",
     "exception": false,
     "start_time": "2024-07-10T22:17:55.820244",
     "status": "completed"
    },
    "tags": []
   },
   "outputs": [
    {
     "data": {
      "application/javascript": [
       "parent.postMessage({\"jupyterEvent\": \"custom.exercise_interaction\", \"data\": {\"interactionType\": 2, \"questionType\": 2, \"questionId\": \"5.1_AllToppings\", \"learnToolsVersion\": \"0.3.4\", \"valueTowardsCompletion\": 0.0, \"failureMessage\": \"\", \"exceptionClass\": \"\", \"trace\": \"\", \"outcomeType\": 4}}, \"*\")"
      ],
      "text/plain": [
       "<IPython.core.display.Javascript object>"
      ]
     },
     "metadata": {},
     "output_type": "display_data"
    },
    {
     "data": {
      "text/markdown": [
       "<span style=\"color:#3366cc\">Hint:</span> You'll need to use the `and` operator."
      ],
      "text/plain": [
       "Hint: You'll need to use the `and` operator."
      ]
     },
     "metadata": {},
     "output_type": "display_data"
    },
    {
     "data": {
      "application/javascript": [
       "parent.postMessage({\"jupyterEvent\": \"custom.exercise_interaction\", \"data\": {\"interactionType\": 3, \"questionType\": 2, \"questionId\": \"5.1_AllToppings\", \"learnToolsVersion\": \"0.3.4\", \"valueTowardsCompletion\": 0.0, \"failureMessage\": \"\", \"exceptionClass\": \"\", \"trace\": \"\", \"outcomeType\": 4}}, \"*\")"
      ],
      "text/plain": [
       "<IPython.core.display.Javascript object>"
      ]
     },
     "metadata": {},
     "output_type": "display_data"
    },
    {
     "data": {
      "text/markdown": [
       "<span style=\"color:#33cc99\">Solution:</span> \n",
       "```python\n",
       "return ketchup and mustard and onion\n",
       "```"
      ],
      "text/plain": [
       "Solution: \n",
       "```python\n",
       "return ketchup and mustard and onion\n",
       "```"
      ]
     },
     "metadata": {},
     "output_type": "display_data"
    }
   ],
   "source": [
    "q5.a.hint()\n",
    "q5.a.solution()"
   ]
  },
  {
   "cell_type": "markdown",
   "id": "d8e565e3",
   "metadata": {
    "papermill": {
     "duration": 0.012138,
     "end_time": "2024-07-10T22:17:55.872735",
     "exception": false,
     "start_time": "2024-07-10T22:17:55.860597",
     "status": "completed"
    },
    "tags": []
   },
   "source": [
    "# 5b.\n",
    "\n",
    "For the next function, fill in the body to match the English description in the docstring. "
   ]
  },
  {
   "cell_type": "code",
   "execution_count": 15,
   "id": "bd6316e8",
   "metadata": {
    "execution": {
     "iopub.execute_input": "2024-07-10T22:17:55.899410Z",
     "iopub.status.busy": "2024-07-10T22:17:55.899024Z",
     "iopub.status.idle": "2024-07-10T22:17:55.908092Z",
     "shell.execute_reply": "2024-07-10T22:17:55.907032Z"
    },
    "papermill": {
     "duration": 0.025302,
     "end_time": "2024-07-10T22:17:55.910471",
     "exception": false,
     "start_time": "2024-07-10T22:17:55.885169",
     "status": "completed"
    },
    "tags": []
   },
   "outputs": [
    {
     "data": {
      "application/javascript": [
       "parent.postMessage({\"jupyterEvent\": \"custom.exercise_interaction\", \"data\": {\"outcomeType\": 1, \"valueTowardsCompletion\": 0.2, \"interactionType\": 1, \"questionType\": 2, \"questionId\": \"5.2_PlainDog\", \"learnToolsVersion\": \"0.3.4\", \"failureMessage\": \"\", \"exceptionClass\": \"\", \"trace\": \"\"}}, \"*\")"
      ],
      "text/plain": [
       "<IPython.core.display.Javascript object>"
      ]
     },
     "metadata": {},
     "output_type": "display_data"
    },
    {
     "data": {
      "text/markdown": [
       "<span style=\"color:#33cc33\">Correct:</span> \n",
       "\n",
       "One solution looks like:\n",
       "```python\n",
       "return not ketchup and not mustard and not onion\n",
       "```\n",
       "\n",
       "We can also [\"factor out\" the nots](https://en.wikipedia.org/wiki/De_Morgan%27s_laws) to get:\n",
       "\n",
       "```python\n",
       "return not (ketchup or mustard or onion)\n",
       "```"
      ],
      "text/plain": [
       "Correct: \n",
       "\n",
       "One solution looks like:\n",
       "```python\n",
       "return not ketchup and not mustard and not onion\n",
       "```\n",
       "\n",
       "We can also [\"factor out\" the nots](https://en.wikipedia.org/wiki/De_Morgan%27s_laws) to get:\n",
       "\n",
       "```python\n",
       "return not (ketchup or mustard or onion)\n",
       "```"
      ]
     },
     "metadata": {},
     "output_type": "display_data"
    }
   ],
   "source": [
    "def wants_plain_hotdog(ketchup, mustard, onion):\n",
    "    \"\"\"Return whether the customer wants a plain hot dog with no toppings.\n",
    "    \"\"\"\n",
    "    return not ketchup and not mustard and not onion\n",
    "\n",
    "# Check your answer\n",
    "q5.b.check()"
   ]
  },
  {
   "cell_type": "code",
   "execution_count": 16,
   "id": "6470fea5",
   "metadata": {
    "execution": {
     "iopub.execute_input": "2024-07-10T22:17:55.938283Z",
     "iopub.status.busy": "2024-07-10T22:17:55.937892Z",
     "iopub.status.idle": "2024-07-10T22:17:55.950024Z",
     "shell.execute_reply": "2024-07-10T22:17:55.949014Z"
    },
    "papermill": {
     "duration": 0.029146,
     "end_time": "2024-07-10T22:17:55.952239",
     "exception": false,
     "start_time": "2024-07-10T22:17:55.923093",
     "status": "completed"
    },
    "tags": []
   },
   "outputs": [
    {
     "data": {
      "application/javascript": [
       "parent.postMessage({\"jupyterEvent\": \"custom.exercise_interaction\", \"data\": {\"interactionType\": 2, \"questionType\": 2, \"questionId\": \"5.2_PlainDog\", \"learnToolsVersion\": \"0.3.4\", \"valueTowardsCompletion\": 0.0, \"failureMessage\": \"\", \"exceptionClass\": \"\", \"trace\": \"\", \"outcomeType\": 4}}, \"*\")"
      ],
      "text/plain": [
       "<IPython.core.display.Javascript object>"
      ]
     },
     "metadata": {},
     "output_type": "display_data"
    },
    {
     "data": {
      "text/markdown": [
       "<span style=\"color:#3366cc\">Hint:</span> You'll need to use the `not` operator."
      ],
      "text/plain": [
       "Hint: You'll need to use the `not` operator."
      ]
     },
     "metadata": {},
     "output_type": "display_data"
    },
    {
     "data": {
      "application/javascript": [
       "parent.postMessage({\"jupyterEvent\": \"custom.exercise_interaction\", \"data\": {\"interactionType\": 3, \"questionType\": 2, \"questionId\": \"5.2_PlainDog\", \"learnToolsVersion\": \"0.3.4\", \"valueTowardsCompletion\": 0.0, \"failureMessage\": \"\", \"exceptionClass\": \"\", \"trace\": \"\", \"outcomeType\": 4}}, \"*\")"
      ],
      "text/plain": [
       "<IPython.core.display.Javascript object>"
      ]
     },
     "metadata": {},
     "output_type": "display_data"
    },
    {
     "data": {
      "text/markdown": [
       "<span style=\"color:#33cc99\">Solution:</span> One solution looks like:\n",
       "```python\n",
       "return not ketchup and not mustard and not onion\n",
       "```\n",
       "\n",
       "We can also [\"factor out\" the nots](https://en.wikipedia.org/wiki/De_Morgan%27s_laws) to get:\n",
       "\n",
       "```python\n",
       "return not (ketchup or mustard or onion)\n",
       "```"
      ],
      "text/plain": [
       "Solution: One solution looks like:\n",
       "```python\n",
       "return not ketchup and not mustard and not onion\n",
       "```\n",
       "\n",
       "We can also [\"factor out\" the nots](https://en.wikipedia.org/wiki/De_Morgan%27s_laws) to get:\n",
       "\n",
       "```python\n",
       "return not (ketchup or mustard or onion)\n",
       "```"
      ]
     },
     "metadata": {},
     "output_type": "display_data"
    }
   ],
   "source": [
    "q5.b.hint()\n",
    "q5.b.solution()"
   ]
  },
  {
   "cell_type": "markdown",
   "id": "1946b5f6",
   "metadata": {
    "papermill": {
     "duration": 0.012836,
     "end_time": "2024-07-10T22:17:55.978185",
     "exception": false,
     "start_time": "2024-07-10T22:17:55.965349",
     "status": "completed"
    },
    "tags": []
   },
   "source": [
    "# 5c.\n",
    "\n",
    "You know what to do: for the next function, fill in the body to match the English description in the docstring."
   ]
  },
  {
   "cell_type": "code",
   "execution_count": 17,
   "id": "0e48fc0e",
   "metadata": {
    "execution": {
     "iopub.execute_input": "2024-07-10T22:17:56.006316Z",
     "iopub.status.busy": "2024-07-10T22:17:56.005941Z",
     "iopub.status.idle": "2024-07-10T22:17:56.015558Z",
     "shell.execute_reply": "2024-07-10T22:17:56.014512Z"
    },
    "papermill": {
     "duration": 0.026593,
     "end_time": "2024-07-10T22:17:56.017941",
     "exception": false,
     "start_time": "2024-07-10T22:17:55.991348",
     "status": "completed"
    },
    "tags": []
   },
   "outputs": [
    {
     "data": {
      "application/javascript": [
       "parent.postMessage({\"jupyterEvent\": \"custom.exercise_interaction\", \"data\": {\"outcomeType\": 1, \"valueTowardsCompletion\": 0.2, \"interactionType\": 1, \"questionType\": 2, \"questionId\": \"5.3_OneSauce\", \"learnToolsVersion\": \"0.3.4\", \"failureMessage\": \"\", \"exceptionClass\": \"\", \"trace\": \"\"}}, \"*\")"
      ],
      "text/plain": [
       "<IPython.core.display.Javascript object>"
      ]
     },
     "metadata": {},
     "output_type": "display_data"
    },
    {
     "data": {
      "text/markdown": [
       "<span style=\"color:#33cc33\">Correct</span>"
      ],
      "text/plain": [
       "Correct"
      ]
     },
     "metadata": {},
     "output_type": "display_data"
    }
   ],
   "source": [
    "def exactly_one_sauce(ketchup, mustard, onion):\n",
    "    \"\"\"Return whether the customer wants either ketchup or mustard, but not both.\n",
    "    (You may be familiar with this operation under the name \"exclusive or\")\n",
    "    \"\"\"\n",
    "    return (ketchup and not mustard) or (mustard and not ketchup)\n",
    "\n",
    "# Check your answer\n",
    "q5.c.check()"
   ]
  },
  {
   "cell_type": "code",
   "execution_count": 18,
   "id": "7afec69b",
   "metadata": {
    "execution": {
     "iopub.execute_input": "2024-07-10T22:17:56.048937Z",
     "iopub.status.busy": "2024-07-10T22:17:56.048544Z",
     "iopub.status.idle": "2024-07-10T22:17:56.061013Z",
     "shell.execute_reply": "2024-07-10T22:17:56.059936Z"
    },
    "papermill": {
     "duration": 0.030572,
     "end_time": "2024-07-10T22:17:56.063619",
     "exception": false,
     "start_time": "2024-07-10T22:17:56.033047",
     "status": "completed"
    },
    "tags": []
   },
   "outputs": [
    {
     "data": {
      "application/javascript": [
       "parent.postMessage({\"jupyterEvent\": \"custom.exercise_interaction\", \"data\": {\"interactionType\": 2, \"questionType\": 2, \"questionId\": \"5.3_OneSauce\", \"learnToolsVersion\": \"0.3.4\", \"valueTowardsCompletion\": 0.0, \"failureMessage\": \"\", \"exceptionClass\": \"\", \"trace\": \"\", \"outcomeType\": 4}}, \"*\")"
      ],
      "text/plain": [
       "<IPython.core.display.Javascript object>"
      ]
     },
     "metadata": {},
     "output_type": "display_data"
    },
    {
     "data": {
      "text/markdown": [
       "<span style=\"color:#3366cc\">Hint:</span> There are exactly two ways to set ketchup and mustard to make this true. What are they?"
      ],
      "text/plain": [
       "Hint: There are exactly two ways to set ketchup and mustard to make this true. What are they?"
      ]
     },
     "metadata": {},
     "output_type": "display_data"
    },
    {
     "data": {
      "application/javascript": [
       "parent.postMessage({\"jupyterEvent\": \"custom.exercise_interaction\", \"data\": {\"interactionType\": 3, \"questionType\": 2, \"questionId\": \"5.3_OneSauce\", \"learnToolsVersion\": \"0.3.4\", \"valueTowardsCompletion\": 0.0, \"failureMessage\": \"\", \"exceptionClass\": \"\", \"trace\": \"\", \"outcomeType\": 4}}, \"*\")"
      ],
      "text/plain": [
       "<IPython.core.display.Javascript object>"
      ]
     },
     "metadata": {},
     "output_type": "display_data"
    },
    {
     "data": {
      "text/markdown": [
       "<span style=\"color:#33cc99\">Solution:</span> \n",
       "```python\n",
       "return (ketchup and not mustard) or (mustard and not ketchup)\n",
       "```"
      ],
      "text/plain": [
       "Solution: \n",
       "```python\n",
       "return (ketchup and not mustard) or (mustard and not ketchup)\n",
       "```"
      ]
     },
     "metadata": {},
     "output_type": "display_data"
    }
   ],
   "source": [
    "q5.c.hint()\n",
    "q5.c.solution()"
   ]
  },
  {
   "cell_type": "markdown",
   "id": "ca9e7121",
   "metadata": {
    "papermill": {
     "duration": 0.073931,
     "end_time": "2024-07-10T22:17:56.152496",
     "exception": false,
     "start_time": "2024-07-10T22:17:56.078565",
     "status": "completed"
    },
    "tags": []
   },
   "source": [
    "# 6. <span title=\"A bit spicy\" style=\"color: darkgreen \">🌶️</span>\n",
    "\n",
    "We’ve seen that calling `bool()` on an integer returns `False` if it’s equal to 0 and `True` otherwise. What happens if we call `int()` on a bool? Try it out in the notebook cell below.\n",
    "\n",
    "Can you take advantage of this to write a succinct function that corresponds to the English sentence \"does the customer want exactly one topping?\"?"
   ]
  },
  {
   "cell_type": "code",
   "execution_count": 19,
   "id": "55aa6fc4",
   "metadata": {
    "execution": {
     "iopub.execute_input": "2024-07-10T22:17:56.182450Z",
     "iopub.status.busy": "2024-07-10T22:17:56.182097Z",
     "iopub.status.idle": "2024-07-10T22:17:56.191877Z",
     "shell.execute_reply": "2024-07-10T22:17:56.190660Z"
    },
    "papermill": {
     "duration": 0.027672,
     "end_time": "2024-07-10T22:17:56.194295",
     "exception": false,
     "start_time": "2024-07-10T22:17:56.166623",
     "status": "completed"
    },
    "tags": []
   },
   "outputs": [
    {
     "data": {
      "application/javascript": [
       "parent.postMessage({\"jupyterEvent\": \"custom.exercise_interaction\", \"data\": {\"outcomeType\": 1, \"valueTowardsCompletion\": 0.2, \"interactionType\": 1, \"questionType\": 2, \"questionId\": \"6_OneTopping\", \"learnToolsVersion\": \"0.3.4\", \"failureMessage\": \"\", \"exceptionClass\": \"\", \"trace\": \"\"}}, \"*\")"
      ],
      "text/plain": [
       "<IPython.core.display.Javascript object>"
      ]
     },
     "metadata": {},
     "output_type": "display_data"
    },
    {
     "data": {
      "text/markdown": [
       "<span style=\"color:#33cc33\">Correct:</span> \n",
       "\n",
       "This condition would be pretty complicated to express using just `and`, `or` and `not`, but using boolean-to-integer conversion gives us this short solution:\n",
       "```python\n",
       "return (int(ketchup) + int(mustard) + int(onion)) == 1\n",
       "```\n",
       "\n",
       "Fun fact: we don't technically need to call `int` on the arguments. Just by doing addition with booleans, Python implicitly does the integer conversion. So we could also write...\n",
       "\n",
       "```python\n",
       "return (ketchup + mustard + onion) == 1\n",
       "```"
      ],
      "text/plain": [
       "Correct: \n",
       "\n",
       "This condition would be pretty complicated to express using just `and`, `or` and `not`, but using boolean-to-integer conversion gives us this short solution:\n",
       "```python\n",
       "return (int(ketchup) + int(mustard) + int(onion)) == 1\n",
       "```\n",
       "\n",
       "Fun fact: we don't technically need to call `int` on the arguments. Just by doing addition with booleans, Python implicitly does the integer conversion. So we could also write...\n",
       "\n",
       "```python\n",
       "return (ketchup + mustard + onion) == 1\n",
       "```"
      ]
     },
     "metadata": {},
     "output_type": "display_data"
    }
   ],
   "source": [
    "def exactly_one_topping(ketchup, mustard, onion):\n",
    "    \"\"\"Return whether the customer wants exactly one of the three available toppings\n",
    "    on their hot dog.\n",
    "    \"\"\"\n",
    "    if int(ketchup) + int(mustard) + int(onion) == 1:\n",
    "        return True\n",
    "    else:\n",
    "        return False\n",
    "\n",
    "# Check your answer\n",
    "q6.check()"
   ]
  },
  {
   "cell_type": "code",
   "execution_count": 20,
   "id": "b81bac55",
   "metadata": {
    "execution": {
     "iopub.execute_input": "2024-07-10T22:17:56.225107Z",
     "iopub.status.busy": "2024-07-10T22:17:56.224745Z",
     "iopub.status.idle": "2024-07-10T22:17:56.236589Z",
     "shell.execute_reply": "2024-07-10T22:17:56.235573Z"
    },
    "papermill": {
     "duration": 0.030178,
     "end_time": "2024-07-10T22:17:56.238748",
     "exception": false,
     "start_time": "2024-07-10T22:17:56.208570",
     "status": "completed"
    },
    "tags": []
   },
   "outputs": [
    {
     "data": {
      "application/javascript": [
       "parent.postMessage({\"jupyterEvent\": \"custom.exercise_interaction\", \"data\": {\"interactionType\": 2, \"questionType\": 2, \"questionId\": \"6_OneTopping\", \"learnToolsVersion\": \"0.3.4\", \"valueTowardsCompletion\": 0.0, \"failureMessage\": \"\", \"exceptionClass\": \"\", \"trace\": \"\", \"outcomeType\": 4}}, \"*\")"
      ],
      "text/plain": [
       "<IPython.core.display.Javascript object>"
      ]
     },
     "metadata": {},
     "output_type": "display_data"
    },
    {
     "data": {
      "text/markdown": [
       "<span style=\"color:#3366cc\">Hint:</span> You may have already found that `int(True)` is 1, and `int(False)` is 0. Think about what kinds of basic arithmetic operations you might want to perform on `ketchup`, `mustard`, and `onion` after converting them to integers."
      ],
      "text/plain": [
       "Hint: You may have already found that `int(True)` is 1, and `int(False)` is 0. Think about what kinds of basic arithmetic operations you might want to perform on `ketchup`, `mustard`, and `onion` after converting them to integers."
      ]
     },
     "metadata": {},
     "output_type": "display_data"
    },
    {
     "data": {
      "application/javascript": [
       "parent.postMessage({\"jupyterEvent\": \"custom.exercise_interaction\", \"data\": {\"interactionType\": 3, \"questionType\": 2, \"questionId\": \"6_OneTopping\", \"learnToolsVersion\": \"0.3.4\", \"valueTowardsCompletion\": 0.0, \"failureMessage\": \"\", \"exceptionClass\": \"\", \"trace\": \"\", \"outcomeType\": 4}}, \"*\")"
      ],
      "text/plain": [
       "<IPython.core.display.Javascript object>"
      ]
     },
     "metadata": {},
     "output_type": "display_data"
    },
    {
     "data": {
      "text/markdown": [
       "<span style=\"color:#33cc99\">Solution:</span> This condition would be pretty complicated to express using just `and`, `or` and `not`, but using boolean-to-integer conversion gives us this short solution:\n",
       "```python\n",
       "return (int(ketchup) + int(mustard) + int(onion)) == 1\n",
       "```\n",
       "\n",
       "Fun fact: we don't technically need to call `int` on the arguments. Just by doing addition with booleans, Python implicitly does the integer conversion. So we could also write...\n",
       "\n",
       "```python\n",
       "return (ketchup + mustard + onion) == 1\n",
       "```"
      ],
      "text/plain": [
       "Solution: This condition would be pretty complicated to express using just `and`, `or` and `not`, but using boolean-to-integer conversion gives us this short solution:\n",
       "```python\n",
       "return (int(ketchup) + int(mustard) + int(onion)) == 1\n",
       "```\n",
       "\n",
       "Fun fact: we don't technically need to call `int` on the arguments. Just by doing addition with booleans, Python implicitly does the integer conversion. So we could also write...\n",
       "\n",
       "```python\n",
       "return (ketchup + mustard + onion) == 1\n",
       "```"
      ]
     },
     "metadata": {},
     "output_type": "display_data"
    }
   ],
   "source": [
    "q6.hint()\n",
    "q6.solution()"
   ]
  },
  {
   "cell_type": "markdown",
   "id": "0fbb6773",
   "metadata": {
    "papermill": {
     "duration": 0.014419,
     "end_time": "2024-07-10T22:17:56.268041",
     "exception": false,
     "start_time": "2024-07-10T22:17:56.253622",
     "status": "completed"
    },
    "tags": []
   },
   "source": [
    "# 7. <span title=\"A bit spicy\" style=\"color: darkgreen \">🌶️</span> (Optional)\n",
    "\n",
    "In this problem we'll be working with a simplified version of [blackjack](https://en.wikipedia.org/wiki/Blackjack) (aka twenty-one). In this version there is one player (who you'll control) and a dealer. Play proceeds as follows:\n",
    "\n",
    "- The player is dealt two face-up cards. The dealer is dealt one face-up card.\n",
    "- The player may ask to be dealt another card ('hit') as many times as they wish. If the sum of their cards exceeds 21, they lose the round immediately.\n",
    "- The dealer then deals additional cards to himself until either:\n",
    "    - the sum of the dealer's cards exceeds 21, in which case the player wins the round\n",
    "    - the sum of the dealer's cards is greater than or equal to 17. If the player's total is greater than the dealer's, the player wins. Otherwise, the dealer wins (even in case of a tie).\n",
    "    \n",
    "When calculating the sum of cards, Jack, Queen, and King count for 10. Aces can count as 1 or 11 (when referring to a player's \"total\" above, we mean the largest total that can be made without exceeding 21. So e.g. A+8 = 19, A+8+8 = 17)\n",
    "\n",
    "For this problem, you'll write a function representing the player's decision-making strategy in this game. We've provided a very unintelligent implementation below:"
   ]
  },
  {
   "cell_type": "code",
   "execution_count": 21,
   "id": "d0d3b26f",
   "metadata": {
    "execution": {
     "iopub.execute_input": "2024-07-10T22:17:56.299762Z",
     "iopub.status.busy": "2024-07-10T22:17:56.298822Z",
     "iopub.status.idle": "2024-07-10T22:17:56.304599Z",
     "shell.execute_reply": "2024-07-10T22:17:56.303326Z"
    },
    "papermill": {
     "duration": 0.024059,
     "end_time": "2024-07-10T22:17:56.306816",
     "exception": false,
     "start_time": "2024-07-10T22:17:56.282757",
     "status": "completed"
    },
    "tags": []
   },
   "outputs": [],
   "source": [
    "def should_hit(dealer_total, player_total, player_low_aces, player_high_aces):\n",
    "    \"\"\"Return True if the player should hit (request another card) given the current game\n",
    "    state, or False if the player should stay.\n",
    "    When calculating a hand's total value, we count aces as \"high\" (with value 11) if doing so\n",
    "    doesn't bring the total above 21, otherwise we count them as low (with value 1). \n",
    "    For example, if the player's hand is {A, A, A, 7}, we will count it as 11 + 1 + 1 + 7,\n",
    "    and therefore set player_total=20, player_low_aces=2, player_high_aces=1.\n",
    "    \"\"\"\n",
    "    return False"
   ]
  },
  {
   "cell_type": "markdown",
   "id": "99a05551",
   "metadata": {
    "papermill": {
     "duration": 0.015641,
     "end_time": "2024-07-10T22:17:56.337796",
     "exception": false,
     "start_time": "2024-07-10T22:17:56.322155",
     "status": "completed"
    },
    "tags": []
   },
   "source": [
    "This very conservative agent *always* sticks with the hand of two cards that they're dealt.\n",
    "\n",
    "We'll be simulating games between your player agent and our own dealer agent by calling your function.\n",
    "\n",
    "Try running the function below to see an example of a simulated game:"
   ]
  },
  {
   "cell_type": "code",
   "execution_count": 22,
   "id": "bf7366ed",
   "metadata": {
    "execution": {
     "iopub.execute_input": "2024-07-10T22:17:56.369318Z",
     "iopub.status.busy": "2024-07-10T22:17:56.368938Z",
     "iopub.status.idle": "2024-07-10T22:17:56.374621Z",
     "shell.execute_reply": "2024-07-10T22:17:56.373448Z"
    },
    "papermill": {
     "duration": 0.02439,
     "end_time": "2024-07-10T22:17:56.377205",
     "exception": false,
     "start_time": "2024-07-10T22:17:56.352815",
     "status": "completed"
    },
    "tags": []
   },
   "outputs": [
    {
     "name": "stdout",
     "output_type": "stream",
     "text": [
      "Player starts with 4 and 10 (total = 14)\n",
      "Dealer starts with 2\n",
      "\n",
      "__Player's turn__\n",
      "Player stays\n",
      "\n",
      "__Dealer's turn__\n",
      "Dealer hits and receives 2. (total = 4)\n",
      "Dealer hits and receives 6. (total = 10)\n",
      "Dealer hits and receives 9. (total = 19)\n",
      "Dealer stands.\n",
      "Dealer wins. 19 >= 14\n"
     ]
    }
   ],
   "source": [
    "q7.simulate_one_game()"
   ]
  },
  {
   "cell_type": "markdown",
   "id": "b98f8cea",
   "metadata": {
    "papermill": {
     "duration": 0.014611,
     "end_time": "2024-07-10T22:17:56.406725",
     "exception": false,
     "start_time": "2024-07-10T22:17:56.392114",
     "status": "completed"
    },
    "tags": []
   },
   "source": [
    "The real test of your agent's mettle is their average win rate over many games. Try calling the function below to simulate 50000 games of blackjack (it may take a couple seconds):"
   ]
  },
  {
   "cell_type": "code",
   "execution_count": 23,
   "id": "b9eda55b",
   "metadata": {
    "execution": {
     "iopub.execute_input": "2024-07-10T22:17:56.438976Z",
     "iopub.status.busy": "2024-07-10T22:17:56.438603Z",
     "iopub.status.idle": "2024-07-10T22:17:57.814922Z",
     "shell.execute_reply": "2024-07-10T22:17:57.813706Z"
    },
    "papermill": {
     "duration": 1.395557,
     "end_time": "2024-07-10T22:17:57.817278",
     "exception": false,
     "start_time": "2024-07-10T22:17:56.421721",
     "status": "completed"
    },
    "tags": []
   },
   "outputs": [
    {
     "name": "stdout",
     "output_type": "stream",
     "text": [
      "Player won 18796 out of 50000 games (win rate = 37.6%)\n"
     ]
    }
   ],
   "source": [
    "q7.simulate(n_games=50000)"
   ]
  },
  {
   "cell_type": "markdown",
   "id": "beb09c9e",
   "metadata": {
    "papermill": {
     "duration": 0.014467,
     "end_time": "2024-07-10T22:17:57.846580",
     "exception": false,
     "start_time": "2024-07-10T22:17:57.832113",
     "status": "completed"
    },
    "tags": []
   },
   "source": [
    "Our dumb agent that completely ignores the game state still manages to win shockingly often!\n",
    "\n",
    "Try adding some more smarts to the `should_hit` function and see how it affects the results."
   ]
  },
  {
   "cell_type": "code",
   "execution_count": 24,
   "id": "068eb849",
   "metadata": {
    "execution": {
     "iopub.execute_input": "2024-07-10T22:17:57.877876Z",
     "iopub.status.busy": "2024-07-10T22:17:57.877462Z",
     "iopub.status.idle": "2024-07-10T22:17:59.471819Z",
     "shell.execute_reply": "2024-07-10T22:17:59.470570Z"
    },
    "papermill": {
     "duration": 1.613019,
     "end_time": "2024-07-10T22:17:59.474307",
     "exception": false,
     "start_time": "2024-07-10T22:17:57.861288",
     "status": "completed"
    },
    "tags": []
   },
   "outputs": [
    {
     "name": "stdout",
     "output_type": "stream",
     "text": [
      "Player won 20961 out of 50000 games (win rate = 41.9%)\n"
     ]
    }
   ],
   "source": [
    "def should_hit(dealer_total, player_total, player_low_aces, player_high_aces):\n",
    "    \"\"\"Return True if the player should hit (request another card) given the current game\n",
    "    state, or False if the player should stay.\n",
    "    When calculating a hand's total value, we count aces as \"high\" (with value 11) if doing so\n",
    "    doesn't bring the total above 21, otherwise we count them as low (with value 1). \n",
    "    For example, if the player's hand is {A, A, A, 7}, we will count it as 11 + 1 + 1 + 7,\n",
    "    and therefore set player_total=20, player_low_aces=2, player_high_aces=1.\n",
    "    \"\"\"\n",
    "    if player_total == 20:\n",
    "        return False\n",
    "    elif player_total <= 11:\n",
    "        return True\n",
    "    elif dealer_total == (4 or 5 or 6) and (player_total >= 12):\n",
    "        return False\n",
    "    elif dealer_total == 10 and player_total < 17:\n",
    "        return True\n",
    "    elif dealer_total == 11 and player_total < 17:\n",
    "        return True\n",
    "    else:\n",
    "        return False\n",
    "\n",
    "\n",
    "q7.simulate(n_games=50000)"
   ]
  },
  {
   "cell_type": "markdown",
   "id": "f7d4e318",
   "metadata": {
    "papermill": {
     "duration": 0.015823,
     "end_time": "2024-07-10T22:17:59.506269",
     "exception": false,
     "start_time": "2024-07-10T22:17:59.490446",
     "status": "completed"
    },
    "tags": []
   },
   "source": [
    "# Keep Going\n",
    "\n",
    "Learn about **[lists and tuples](https://www.kaggle.com/colinmorris/lists)** to handle multiple items of data in a systematic way."
   ]
  },
  {
   "cell_type": "markdown",
   "id": "8c18878e",
   "metadata": {
    "papermill": {
     "duration": 0.014977,
     "end_time": "2024-07-10T22:17:59.537057",
     "exception": false,
     "start_time": "2024-07-10T22:17:59.522080",
     "status": "completed"
    },
    "tags": []
   },
   "source": [
    "---\n",
    "\n",
    "\n",
    "\n",
    "\n",
    "*Have questions or comments? Visit the [course discussion forum](https://www.kaggle.com/learn/python/discussion) to chat with other learners.*"
   ]
  }
 ],
 "metadata": {
  "kaggle": {
   "accelerator": "none",
   "dataSources": [],
   "isGpuEnabled": false,
   "isInternetEnabled": false,
   "language": "python",
   "sourceType": "notebook"
  },
  "kernelspec": {
   "display_name": "Python 3",
   "language": "python",
   "name": "python3"
  },
  "language_info": {
   "codemirror_mode": {
    "name": "ipython",
    "version": 3
   },
   "file_extension": ".py",
   "mimetype": "text/x-python",
   "name": "python",
   "nbconvert_exporter": "python",
   "pygments_lexer": "ipython3",
   "version": "3.10.13"
  },
  "learntools_metadata": {
   "lesson_index": 2,
   "type": "exercise"
  },
  "papermill": {
   "default_parameters": {},
   "duration": 9.027836,
   "end_time": "2024-07-10T22:17:59.973742",
   "environment_variables": {},
   "exception": null,
   "input_path": "__notebook__.ipynb",
   "output_path": "__notebook__.ipynb",
   "parameters": {},
   "start_time": "2024-07-10T22:17:50.945906",
   "version": "2.5.0"
  }
 },
 "nbformat": 4,
 "nbformat_minor": 5
}
